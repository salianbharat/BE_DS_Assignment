{
  "nbformat": 4,
  "nbformat_minor": 0,
  "metadata": {
    "colab": {
      "provenance": [],
      "authorship_tag": "ABX9TyNod8oH0VLSC8fGcOxaQ3RW",
      "include_colab_link": true
    },
    "kernelspec": {
      "name": "python3",
      "display_name": "Python 3"
    },
    "language_info": {
      "name": "python"
    }
  },
  "cells": [
    {
      "cell_type": "markdown",
      "metadata": {
        "id": "view-in-github",
        "colab_type": "text"
      },
      "source": [
        "<a href=\"https://colab.research.google.com/github/salianbharat/BE_DS_Assignment/blob/main/IMDB_Dataset.ipynb\" target=\"_parent\"><img src=\"https://colab.research.google.com/assets/colab-badge.svg\" alt=\"Open In Colab\"/></a>"
      ]
    },
    {
      "cell_type": "markdown",
      "source": [
        "### **Introduction**\n",
        "\n",
        "In this EDA projects I will be perfroming IMDB top 250 movies database analysis which is present on kaggle platform itself, I will be using multiple libraries in this project which will help us in analysing"
      ],
      "metadata": {
        "id": "aqvxkqwDEKHc"
      }
    },
    {
      "cell_type": "markdown",
      "source": [
        "**IMDB Movies Data Set**"
      ],
      "metadata": {
        "id": "OuiIZeK2DdXu"
      }
    },
    {
      "cell_type": "markdown",
      "source": [
        "## ***Importing Necessary Libraries***"
      ],
      "metadata": {
        "id": "EcvlzAyGEJ6S"
      }
    },
    {
      "cell_type": "code",
      "source": [
        "import numpy as np\n",
        "import pandas as pd\n",
        "import matplotlib.pyplot as plt\n",
        "import seaborn as sns\n"
      ],
      "metadata": {
        "id": "JRppQLJmDjev"
      },
      "execution_count": 3,
      "outputs": []
    },
    {
      "cell_type": "code",
      "source": [
        "#from google.colab import files\n",
        "#uploaded = files.upload()\n"
      ],
      "metadata": {
        "id": "fVL2zWRCEeXj"
      },
      "execution_count": 4,
      "outputs": []
    },
    {
      "cell_type": "code",
      "source": [
        "mv= pd.read_csv(\"movies.csv\")"
      ],
      "metadata": {
        "id": "waWdYo6tEZgT"
      },
      "execution_count": 5,
      "outputs": []
    },
    {
      "cell_type": "code",
      "source": [
        "mv.head()"
      ],
      "metadata": {
        "colab": {
          "base_uri": "https://localhost:8080/",
          "height": 654
        },
        "id": "8ngsgMh7FTt3",
        "outputId": "344a0af4-4f1d-40ce-86d9-9402953d711e"
      },
      "execution_count": 6,
      "outputs": [
        {
          "output_type": "execute_result",
          "data": {
            "text/plain": [
              "   rank   movie_id                     title  year  \\\n",
              "0     1  tt0111161  The Shawshank Redemption  1994   \n",
              "1     2  tt0068646             The Godfather  1972   \n",
              "2     3  tt0468569           The Dark Knight  2008   \n",
              "3     4  tt0071562     The Godfather Part II  1974   \n",
              "4     5  tt0050083              12 Angry Men  1957   \n",
              "\n",
              "                                   link imbd_votes  imbd_rating certificate  \\\n",
              "0  https://www.imdb.com/title/tt0111161  2,711,075          9.3           R   \n",
              "1  https://www.imdb.com/title/tt0068646  1,882,829          9.2           R   \n",
              "2  https://www.imdb.com/title/tt0468569  2,684,051          9.0       PG-13   \n",
              "3  https://www.imdb.com/title/tt0071562  1,285,350          9.0           R   \n",
              "4  https://www.imdb.com/title/tt0050083    800,954          9.0    Approved   \n",
              "\n",
              "  duration               genre  ... director_id         director_name  \\\n",
              "0   2h 22m               Drama  ...   nm0001104        Frank Darabont   \n",
              "1   2h 55m         Crime,Drama  ...   nm0000338  Francis Ford Coppola   \n",
              "2   2h 32m  Action,Crime,Drama  ...   nm0634240     Christopher Nolan   \n",
              "3   3h 22m         Crime,Drama  ...   nm0000338  Francis Ford Coppola   \n",
              "4   1h 36m         Crime,Drama  ...   nm0001486          Sidney Lumet   \n",
              "\n",
              "                                           writer_id  \\\n",
              "0                                nm0000175,nm0001104   \n",
              "1                                nm0701374,nm0000338   \n",
              "2  tt0468569,nm0634300,nm0634240,nm0275286,tt0468569   \n",
              "3                                nm0000338,nm0701374   \n",
              "4                                          nm0741627   \n",
              "\n",
              "                                         writer_name  \\\n",
              "0                        Stephen King,Frank Darabont   \n",
              "1                    Mario Puzo,Francis Ford Coppola   \n",
              "2  Writers,Jonathan Nolan,Christopher Nolan,David...   \n",
              "3                    Francis Ford Coppola,Mario Puzo   \n",
              "4                                      Reginald Rose   \n",
              "\n",
              "                                           storyline  \\\n",
              "0  Over the course of several years, two convicts...   \n",
              "1  The aging patriarch of an organized crime dyna...   \n",
              "2  When the menace known as the Joker wreaks havo...   \n",
              "3  The early life and career of Vito Corleone in ...   \n",
              "4  The jury in a New York City murder trial is fr...   \n",
              "\n",
              "                                             user_id  \\\n",
              "0  ur16161013,ur15311310,ur0265899,ur16117882,ur1...   \n",
              "1  ur24740649,ur86182727,ur15794099,ur15311310,ur...   \n",
              "2  ur87850731,ur1293485,ur129557514,ur12449122,ur...   \n",
              "3  ur0176092,ur0688559,ur92260614,ur0200644,ur117...   \n",
              "4  ur1318549,ur0643062,ur0688559,ur20552756,ur945...   \n",
              "\n",
              "                                           user_name  \\\n",
              "0  hitchcockthelegend,Sleepin_Dragon,EyeDunno,ale...   \n",
              "1  CalRhys,andrewburgereviews,gogoschka-1,Sleepin...   \n",
              "2  MrHeraclius,Smells_Like_Cheese,dseferaj,little...   \n",
              "3  Nazi_Fighter_David,tfrizzell,umunir-36959,DanB...   \n",
              "4  uds3,tedg,tfrizzell,TheLittleSongbird,henrique...   \n",
              "\n",
              "                                           review_id  \\\n",
              "0  rw2284594,rw6606154,rw1221355,rw1822343,rw1288...   \n",
              "1  rw3038370,rw4756923,rw4059579,rw6568526,rw1897...   \n",
              "2  rw5478826,rw1914442,rw6606026,rw1917099,rw5170...   \n",
              "3  rw0135607,rw0135487,rw5049900,rw0135526,rw0135...   \n",
              "4  rw0060044,rw0060025,rw0060034,rw2262425,rw5448...   \n",
              "\n",
              "                                        review_title  \\\n",
              "0  Some birds aren't meant to be caged.,An incred...   \n",
              "1  The Pinnacle Of Flawless Films!,An offer so go...   \n",
              "2  The Dark Knight,The Batman of our dreams! So m...   \n",
              "3  Breathtaking in its scope and tragic grandeur....   \n",
              "4  The over-used term \"classic movie\" really come...   \n",
              "\n",
              "                                      review_content  \n",
              "0  The Shawshank Redemption is written and direct...  \n",
              "1  'The Godfather' is the pinnacle of flawless fi...  \n",
              "2  Confidently directed, dark, brooding, and pack...  \n",
              "3  Coppola's masterpiece is rivaled only by \"The ...  \n",
              "4  This once-in-a-generation masterpiece simply h...  \n",
              "\n",
              "[5 rows x 22 columns]"
            ],
            "text/html": [
              "\n",
              "  <div id=\"df-777283c5-49e7-4f65-9def-2eaca459b194\" class=\"colab-df-container\">\n",
              "    <div>\n",
              "<style scoped>\n",
              "    .dataframe tbody tr th:only-of-type {\n",
              "        vertical-align: middle;\n",
              "    }\n",
              "\n",
              "    .dataframe tbody tr th {\n",
              "        vertical-align: top;\n",
              "    }\n",
              "\n",
              "    .dataframe thead th {\n",
              "        text-align: right;\n",
              "    }\n",
              "</style>\n",
              "<table border=\"1\" class=\"dataframe\">\n",
              "  <thead>\n",
              "    <tr style=\"text-align: right;\">\n",
              "      <th></th>\n",
              "      <th>rank</th>\n",
              "      <th>movie_id</th>\n",
              "      <th>title</th>\n",
              "      <th>year</th>\n",
              "      <th>link</th>\n",
              "      <th>imbd_votes</th>\n",
              "      <th>imbd_rating</th>\n",
              "      <th>certificate</th>\n",
              "      <th>duration</th>\n",
              "      <th>genre</th>\n",
              "      <th>...</th>\n",
              "      <th>director_id</th>\n",
              "      <th>director_name</th>\n",
              "      <th>writer_id</th>\n",
              "      <th>writer_name</th>\n",
              "      <th>storyline</th>\n",
              "      <th>user_id</th>\n",
              "      <th>user_name</th>\n",
              "      <th>review_id</th>\n",
              "      <th>review_title</th>\n",
              "      <th>review_content</th>\n",
              "    </tr>\n",
              "  </thead>\n",
              "  <tbody>\n",
              "    <tr>\n",
              "      <th>0</th>\n",
              "      <td>1</td>\n",
              "      <td>tt0111161</td>\n",
              "      <td>The Shawshank Redemption</td>\n",
              "      <td>1994</td>\n",
              "      <td>https://www.imdb.com/title/tt0111161</td>\n",
              "      <td>2,711,075</td>\n",
              "      <td>9.3</td>\n",
              "      <td>R</td>\n",
              "      <td>2h 22m</td>\n",
              "      <td>Drama</td>\n",
              "      <td>...</td>\n",
              "      <td>nm0001104</td>\n",
              "      <td>Frank Darabont</td>\n",
              "      <td>nm0000175,nm0001104</td>\n",
              "      <td>Stephen King,Frank Darabont</td>\n",
              "      <td>Over the course of several years, two convicts...</td>\n",
              "      <td>ur16161013,ur15311310,ur0265899,ur16117882,ur1...</td>\n",
              "      <td>hitchcockthelegend,Sleepin_Dragon,EyeDunno,ale...</td>\n",
              "      <td>rw2284594,rw6606154,rw1221355,rw1822343,rw1288...</td>\n",
              "      <td>Some birds aren't meant to be caged.,An incred...</td>\n",
              "      <td>The Shawshank Redemption is written and direct...</td>\n",
              "    </tr>\n",
              "    <tr>\n",
              "      <th>1</th>\n",
              "      <td>2</td>\n",
              "      <td>tt0068646</td>\n",
              "      <td>The Godfather</td>\n",
              "      <td>1972</td>\n",
              "      <td>https://www.imdb.com/title/tt0068646</td>\n",
              "      <td>1,882,829</td>\n",
              "      <td>9.2</td>\n",
              "      <td>R</td>\n",
              "      <td>2h 55m</td>\n",
              "      <td>Crime,Drama</td>\n",
              "      <td>...</td>\n",
              "      <td>nm0000338</td>\n",
              "      <td>Francis Ford Coppola</td>\n",
              "      <td>nm0701374,nm0000338</td>\n",
              "      <td>Mario Puzo,Francis Ford Coppola</td>\n",
              "      <td>The aging patriarch of an organized crime dyna...</td>\n",
              "      <td>ur24740649,ur86182727,ur15794099,ur15311310,ur...</td>\n",
              "      <td>CalRhys,andrewburgereviews,gogoschka-1,Sleepin...</td>\n",
              "      <td>rw3038370,rw4756923,rw4059579,rw6568526,rw1897...</td>\n",
              "      <td>The Pinnacle Of Flawless Films!,An offer so go...</td>\n",
              "      <td>'The Godfather' is the pinnacle of flawless fi...</td>\n",
              "    </tr>\n",
              "    <tr>\n",
              "      <th>2</th>\n",
              "      <td>3</td>\n",
              "      <td>tt0468569</td>\n",
              "      <td>The Dark Knight</td>\n",
              "      <td>2008</td>\n",
              "      <td>https://www.imdb.com/title/tt0468569</td>\n",
              "      <td>2,684,051</td>\n",
              "      <td>9.0</td>\n",
              "      <td>PG-13</td>\n",
              "      <td>2h 32m</td>\n",
              "      <td>Action,Crime,Drama</td>\n",
              "      <td>...</td>\n",
              "      <td>nm0634240</td>\n",
              "      <td>Christopher Nolan</td>\n",
              "      <td>tt0468569,nm0634300,nm0634240,nm0275286,tt0468569</td>\n",
              "      <td>Writers,Jonathan Nolan,Christopher Nolan,David...</td>\n",
              "      <td>When the menace known as the Joker wreaks havo...</td>\n",
              "      <td>ur87850731,ur1293485,ur129557514,ur12449122,ur...</td>\n",
              "      <td>MrHeraclius,Smells_Like_Cheese,dseferaj,little...</td>\n",
              "      <td>rw5478826,rw1914442,rw6606026,rw1917099,rw5170...</td>\n",
              "      <td>The Dark Knight,The Batman of our dreams! So m...</td>\n",
              "      <td>Confidently directed, dark, brooding, and pack...</td>\n",
              "    </tr>\n",
              "    <tr>\n",
              "      <th>3</th>\n",
              "      <td>4</td>\n",
              "      <td>tt0071562</td>\n",
              "      <td>The Godfather Part II</td>\n",
              "      <td>1974</td>\n",
              "      <td>https://www.imdb.com/title/tt0071562</td>\n",
              "      <td>1,285,350</td>\n",
              "      <td>9.0</td>\n",
              "      <td>R</td>\n",
              "      <td>3h 22m</td>\n",
              "      <td>Crime,Drama</td>\n",
              "      <td>...</td>\n",
              "      <td>nm0000338</td>\n",
              "      <td>Francis Ford Coppola</td>\n",
              "      <td>nm0000338,nm0701374</td>\n",
              "      <td>Francis Ford Coppola,Mario Puzo</td>\n",
              "      <td>The early life and career of Vito Corleone in ...</td>\n",
              "      <td>ur0176092,ur0688559,ur92260614,ur0200644,ur117...</td>\n",
              "      <td>Nazi_Fighter_David,tfrizzell,umunir-36959,DanB...</td>\n",
              "      <td>rw0135607,rw0135487,rw5049900,rw0135526,rw0135...</td>\n",
              "      <td>Breathtaking in its scope and tragic grandeur....</td>\n",
              "      <td>Coppola's masterpiece is rivaled only by \"The ...</td>\n",
              "    </tr>\n",
              "    <tr>\n",
              "      <th>4</th>\n",
              "      <td>5</td>\n",
              "      <td>tt0050083</td>\n",
              "      <td>12 Angry Men</td>\n",
              "      <td>1957</td>\n",
              "      <td>https://www.imdb.com/title/tt0050083</td>\n",
              "      <td>800,954</td>\n",
              "      <td>9.0</td>\n",
              "      <td>Approved</td>\n",
              "      <td>1h 36m</td>\n",
              "      <td>Crime,Drama</td>\n",
              "      <td>...</td>\n",
              "      <td>nm0001486</td>\n",
              "      <td>Sidney Lumet</td>\n",
              "      <td>nm0741627</td>\n",
              "      <td>Reginald Rose</td>\n",
              "      <td>The jury in a New York City murder trial is fr...</td>\n",
              "      <td>ur1318549,ur0643062,ur0688559,ur20552756,ur945...</td>\n",
              "      <td>uds3,tedg,tfrizzell,TheLittleSongbird,henrique...</td>\n",
              "      <td>rw0060044,rw0060025,rw0060034,rw2262425,rw5448...</td>\n",
              "      <td>The over-used term \"classic movie\" really come...</td>\n",
              "      <td>This once-in-a-generation masterpiece simply h...</td>\n",
              "    </tr>\n",
              "  </tbody>\n",
              "</table>\n",
              "<p>5 rows × 22 columns</p>\n",
              "</div>\n",
              "    <div class=\"colab-df-buttons\">\n",
              "\n",
              "  <div class=\"colab-df-container\">\n",
              "    <button class=\"colab-df-convert\" onclick=\"convertToInteractive('df-777283c5-49e7-4f65-9def-2eaca459b194')\"\n",
              "            title=\"Convert this dataframe to an interactive table.\"\n",
              "            style=\"display:none;\">\n",
              "\n",
              "  <svg xmlns=\"http://www.w3.org/2000/svg\" height=\"24px\" viewBox=\"0 -960 960 960\">\n",
              "    <path d=\"M120-120v-720h720v720H120Zm60-500h600v-160H180v160Zm220 220h160v-160H400v160Zm0 220h160v-160H400v160ZM180-400h160v-160H180v160Zm440 0h160v-160H620v160ZM180-180h160v-160H180v160Zm440 0h160v-160H620v160Z\"/>\n",
              "  </svg>\n",
              "    </button>\n",
              "\n",
              "  <style>\n",
              "    .colab-df-container {\n",
              "      display:flex;\n",
              "      gap: 12px;\n",
              "    }\n",
              "\n",
              "    .colab-df-convert {\n",
              "      background-color: #E8F0FE;\n",
              "      border: none;\n",
              "      border-radius: 50%;\n",
              "      cursor: pointer;\n",
              "      display: none;\n",
              "      fill: #1967D2;\n",
              "      height: 32px;\n",
              "      padding: 0 0 0 0;\n",
              "      width: 32px;\n",
              "    }\n",
              "\n",
              "    .colab-df-convert:hover {\n",
              "      background-color: #E2EBFA;\n",
              "      box-shadow: 0px 1px 2px rgba(60, 64, 67, 0.3), 0px 1px 3px 1px rgba(60, 64, 67, 0.15);\n",
              "      fill: #174EA6;\n",
              "    }\n",
              "\n",
              "    .colab-df-buttons div {\n",
              "      margin-bottom: 4px;\n",
              "    }\n",
              "\n",
              "    [theme=dark] .colab-df-convert {\n",
              "      background-color: #3B4455;\n",
              "      fill: #D2E3FC;\n",
              "    }\n",
              "\n",
              "    [theme=dark] .colab-df-convert:hover {\n",
              "      background-color: #434B5C;\n",
              "      box-shadow: 0px 1px 3px 1px rgba(0, 0, 0, 0.15);\n",
              "      filter: drop-shadow(0px 1px 2px rgba(0, 0, 0, 0.3));\n",
              "      fill: #FFFFFF;\n",
              "    }\n",
              "  </style>\n",
              "\n",
              "    <script>\n",
              "      const buttonEl =\n",
              "        document.querySelector('#df-777283c5-49e7-4f65-9def-2eaca459b194 button.colab-df-convert');\n",
              "      buttonEl.style.display =\n",
              "        google.colab.kernel.accessAllowed ? 'block' : 'none';\n",
              "\n",
              "      async function convertToInteractive(key) {\n",
              "        const element = document.querySelector('#df-777283c5-49e7-4f65-9def-2eaca459b194');\n",
              "        const dataTable =\n",
              "          await google.colab.kernel.invokeFunction('convertToInteractive',\n",
              "                                                    [key], {});\n",
              "        if (!dataTable) return;\n",
              "\n",
              "        const docLinkHtml = 'Like what you see? Visit the ' +\n",
              "          '<a target=\"_blank\" href=https://colab.research.google.com/notebooks/data_table.ipynb>data table notebook</a>'\n",
              "          + ' to learn more about interactive tables.';\n",
              "        element.innerHTML = '';\n",
              "        dataTable['output_type'] = 'display_data';\n",
              "        await google.colab.output.renderOutput(dataTable, element);\n",
              "        const docLink = document.createElement('div');\n",
              "        docLink.innerHTML = docLinkHtml;\n",
              "        element.appendChild(docLink);\n",
              "      }\n",
              "    </script>\n",
              "  </div>\n",
              "\n",
              "\n",
              "<div id=\"df-e7b634e0-2942-43ad-b560-8464bfdfde01\">\n",
              "  <button class=\"colab-df-quickchart\" onclick=\"quickchart('df-e7b634e0-2942-43ad-b560-8464bfdfde01')\"\n",
              "            title=\"Suggest charts\"\n",
              "            style=\"display:none;\">\n",
              "\n",
              "<svg xmlns=\"http://www.w3.org/2000/svg\" height=\"24px\"viewBox=\"0 0 24 24\"\n",
              "     width=\"24px\">\n",
              "    <g>\n",
              "        <path d=\"M19 3H5c-1.1 0-2 .9-2 2v14c0 1.1.9 2 2 2h14c1.1 0 2-.9 2-2V5c0-1.1-.9-2-2-2zM9 17H7v-7h2v7zm4 0h-2V7h2v10zm4 0h-2v-4h2v4z\"/>\n",
              "    </g>\n",
              "</svg>\n",
              "  </button>\n",
              "\n",
              "<style>\n",
              "  .colab-df-quickchart {\n",
              "      --bg-color: #E8F0FE;\n",
              "      --fill-color: #1967D2;\n",
              "      --hover-bg-color: #E2EBFA;\n",
              "      --hover-fill-color: #174EA6;\n",
              "      --disabled-fill-color: #AAA;\n",
              "      --disabled-bg-color: #DDD;\n",
              "  }\n",
              "\n",
              "  [theme=dark] .colab-df-quickchart {\n",
              "      --bg-color: #3B4455;\n",
              "      --fill-color: #D2E3FC;\n",
              "      --hover-bg-color: #434B5C;\n",
              "      --hover-fill-color: #FFFFFF;\n",
              "      --disabled-bg-color: #3B4455;\n",
              "      --disabled-fill-color: #666;\n",
              "  }\n",
              "\n",
              "  .colab-df-quickchart {\n",
              "    background-color: var(--bg-color);\n",
              "    border: none;\n",
              "    border-radius: 50%;\n",
              "    cursor: pointer;\n",
              "    display: none;\n",
              "    fill: var(--fill-color);\n",
              "    height: 32px;\n",
              "    padding: 0;\n",
              "    width: 32px;\n",
              "  }\n",
              "\n",
              "  .colab-df-quickchart:hover {\n",
              "    background-color: var(--hover-bg-color);\n",
              "    box-shadow: 0 1px 2px rgba(60, 64, 67, 0.3), 0 1px 3px 1px rgba(60, 64, 67, 0.15);\n",
              "    fill: var(--button-hover-fill-color);\n",
              "  }\n",
              "\n",
              "  .colab-df-quickchart-complete:disabled,\n",
              "  .colab-df-quickchart-complete:disabled:hover {\n",
              "    background-color: var(--disabled-bg-color);\n",
              "    fill: var(--disabled-fill-color);\n",
              "    box-shadow: none;\n",
              "  }\n",
              "\n",
              "  .colab-df-spinner {\n",
              "    border: 2px solid var(--fill-color);\n",
              "    border-color: transparent;\n",
              "    border-bottom-color: var(--fill-color);\n",
              "    animation:\n",
              "      spin 1s steps(1) infinite;\n",
              "  }\n",
              "\n",
              "  @keyframes spin {\n",
              "    0% {\n",
              "      border-color: transparent;\n",
              "      border-bottom-color: var(--fill-color);\n",
              "      border-left-color: var(--fill-color);\n",
              "    }\n",
              "    20% {\n",
              "      border-color: transparent;\n",
              "      border-left-color: var(--fill-color);\n",
              "      border-top-color: var(--fill-color);\n",
              "    }\n",
              "    30% {\n",
              "      border-color: transparent;\n",
              "      border-left-color: var(--fill-color);\n",
              "      border-top-color: var(--fill-color);\n",
              "      border-right-color: var(--fill-color);\n",
              "    }\n",
              "    40% {\n",
              "      border-color: transparent;\n",
              "      border-right-color: var(--fill-color);\n",
              "      border-top-color: var(--fill-color);\n",
              "    }\n",
              "    60% {\n",
              "      border-color: transparent;\n",
              "      border-right-color: var(--fill-color);\n",
              "    }\n",
              "    80% {\n",
              "      border-color: transparent;\n",
              "      border-right-color: var(--fill-color);\n",
              "      border-bottom-color: var(--fill-color);\n",
              "    }\n",
              "    90% {\n",
              "      border-color: transparent;\n",
              "      border-bottom-color: var(--fill-color);\n",
              "    }\n",
              "  }\n",
              "</style>\n",
              "\n",
              "  <script>\n",
              "    async function quickchart(key) {\n",
              "      const quickchartButtonEl =\n",
              "        document.querySelector('#' + key + ' button');\n",
              "      quickchartButtonEl.disabled = true;  // To prevent multiple clicks.\n",
              "      quickchartButtonEl.classList.add('colab-df-spinner');\n",
              "      try {\n",
              "        const charts = await google.colab.kernel.invokeFunction(\n",
              "            'suggestCharts', [key], {});\n",
              "      } catch (error) {\n",
              "        console.error('Error during call to suggestCharts:', error);\n",
              "      }\n",
              "      quickchartButtonEl.classList.remove('colab-df-spinner');\n",
              "      quickchartButtonEl.classList.add('colab-df-quickchart-complete');\n",
              "    }\n",
              "    (() => {\n",
              "      let quickchartButtonEl =\n",
              "        document.querySelector('#df-e7b634e0-2942-43ad-b560-8464bfdfde01 button');\n",
              "      quickchartButtonEl.style.display =\n",
              "        google.colab.kernel.accessAllowed ? 'block' : 'none';\n",
              "    })();\n",
              "  </script>\n",
              "</div>\n",
              "\n",
              "    </div>\n",
              "  </div>\n"
            ],
            "application/vnd.google.colaboratory.intrinsic+json": {
              "type": "dataframe",
              "variable_name": "mv"
            }
          },
          "metadata": {},
          "execution_count": 6
        }
      ]
    },
    {
      "cell_type": "code",
      "source": [
        "mv.tail()"
      ],
      "metadata": {
        "colab": {
          "base_uri": "https://localhost:8080/",
          "height": 654
        },
        "id": "Getk6ExFFcsX",
        "outputId": "97d0c29c-2801-4e3a-c457-c3d4394923c9"
      },
      "execution_count": 7,
      "outputs": [
        {
          "output_type": "execute_result",
          "data": {
            "text/plain": [
              "     rank   movie_id               title  year  \\\n",
              "245   246  tt0071411         Dersu Uzala  1975   \n",
              "246   247  tt1454029            The Help  2011   \n",
              "247   248  tt0103639             Aladdin  1992   \n",
              "248   249  tt0083987              Gandhi  1982   \n",
              "249   250  tt0099348  Dances with Wolves  1990   \n",
              "\n",
              "                                     link imbd_votes  imbd_rating certificate  \\\n",
              "245  https://www.imdb.com/title/tt0071411     31,167          8.2           G   \n",
              "246  https://www.imdb.com/title/tt1454029    466,011          8.1       PG-13   \n",
              "247  https://www.imdb.com/title/tt0103639    429,219          8.0           G   \n",
              "248  https://www.imdb.com/title/tt0083987    234,688          8.0          PG   \n",
              "249  https://www.imdb.com/title/tt0099348    271,823          8.0       PG-13   \n",
              "\n",
              "    duration                       genre  ...          director_id  \\\n",
              "245   2h 22m   Adventure,Biography,Drama  ...            nm0000041   \n",
              "246   2h 26m                       Drama  ...            nm0853238   \n",
              "247   1h 30m  Animation,Adventure,Comedy  ...  nm0166256,nm0615780   \n",
              "248   3h 11m     Biography,Drama,History  ...            nm0000277   \n",
              "249    3h 1m     Adventure,Drama,Western  ...            nm0000126   \n",
              "\n",
              "                director_name  \\\n",
              "245            Akira Kurosawa   \n",
              "246               Tate Taylor   \n",
              "247  Ron Clements,John Musker   \n",
              "248      Richard Attenborough   \n",
              "249             Kevin Costner   \n",
              "\n",
              "                                             writer_id  \\\n",
              "245                      nm0000041,nm0619330,nm0037539   \n",
              "246                                nm0853238,nm3543826   \n",
              "247  tt0103639,nm0166256,nm0615780,nm0254645,tt0103639   \n",
              "248                                          nm0109300   \n",
              "249                                          nm0086658   \n",
              "\n",
              "                                       writer_name  \\\n",
              "245  Akira Kurosawa,Yuriy Nagibin,Vladimir Arsenev   \n",
              "246                   Tate Taylor,Kathryn Stockett   \n",
              "247  Writers,Ron Clements,John Musker,Ted Elliott,   \n",
              "248                                    John Briley   \n",
              "249                                  Michael Blake   \n",
              "\n",
              "                                             storyline  \\\n",
              "245  The Russian army sends an explorer on an exped...   \n",
              "246  An aspiring author during the civil rights mov...   \n",
              "247  A kindhearted street urchin and a power-hungry...   \n",
              "248  The life of the lawyer who became the famed le...   \n",
              "249  Lieutenant John Dunbar, assigned to a remote w...   \n",
              "\n",
              "                                               user_id  \\\n",
              "245  ur0453068,ur0491610,ur3212364,ur2488512,ur1911...   \n",
              "246  ur0806494,ur1391596,ur24207576,ur2955724,ur221...   \n",
              "247  ur1293485,ur1416505,ur4445210,ur4234119,ur0909...   \n",
              "248  ur0954062,ur0688559,ur0176092,ur0940950,ur2620...   \n",
              "249  ur66111139,ur16161013,ur20597848,ur1413169,ur5...   \n",
              "\n",
              "                                             user_name  \\\n",
              "245  Quinoa1984,howard.schumann,Spondonman,claudio_...   \n",
              "246  ferguson-6,JohnDeSando,taylor_king-890-815491,...   \n",
              "247  Smells_Like_Cheese,Boba_Fett1138,ccthemovieman...   \n",
              "248  khatcher-2,tfrizzell,Nazi_Fighter_David,Rod-88...   \n",
              "249  gbill-74877,hitchcockthelegend,bheadher,Philip...   \n",
              "\n",
              "                                             review_id  \\\n",
              "245  rw1024676,rw0134934,rw1122059,rw2168879,rw2373...   \n",
              "246  rw2473566,rw2472337,rw2472299,rw2697863,rw2488...   \n",
              "247  rw0302749,rw0950861,rw1571053,rw2534639,rw0302...   \n",
              "248  rw0194126,rw1179566,rw1106866,rw0194132,rw0194...   \n",
              "249  rw6808367,rw2322324,rw4656461,rw0959913,rw1379...   \n",
              "\n",
              "                                          review_title  \\\n",
              "245  a tribute to the endurance of man and nature, ...   \n",
              "246  Minny Don't Burn Chicken,Ready to burst . . .,...   \n",
              "247  I'd put it in with the Disney classics,Great s...   \n",
              "248  Took nearly twenty years to make - not a singl...   \n",
              "249  Fantastic,It is the trail of a true human bein...   \n",
              "\n",
              "                                        review_content  \n",
              "245  For a variety of reasons (that are well known ...  \n",
              "246  Greetings again from the darkness. The film is...  \n",
              "247  Aladdin is such an awesome move that still get...  \n",
              "248  Here indeed is one of the great films of the 2...  \n",
              "249  It's hard to think of blockbuster films that p...  \n",
              "\n",
              "[5 rows x 22 columns]"
            ],
            "text/html": [
              "\n",
              "  <div id=\"df-d02bbfc7-1984-4b26-aa54-a46e10eff17f\" class=\"colab-df-container\">\n",
              "    <div>\n",
              "<style scoped>\n",
              "    .dataframe tbody tr th:only-of-type {\n",
              "        vertical-align: middle;\n",
              "    }\n",
              "\n",
              "    .dataframe tbody tr th {\n",
              "        vertical-align: top;\n",
              "    }\n",
              "\n",
              "    .dataframe thead th {\n",
              "        text-align: right;\n",
              "    }\n",
              "</style>\n",
              "<table border=\"1\" class=\"dataframe\">\n",
              "  <thead>\n",
              "    <tr style=\"text-align: right;\">\n",
              "      <th></th>\n",
              "      <th>rank</th>\n",
              "      <th>movie_id</th>\n",
              "      <th>title</th>\n",
              "      <th>year</th>\n",
              "      <th>link</th>\n",
              "      <th>imbd_votes</th>\n",
              "      <th>imbd_rating</th>\n",
              "      <th>certificate</th>\n",
              "      <th>duration</th>\n",
              "      <th>genre</th>\n",
              "      <th>...</th>\n",
              "      <th>director_id</th>\n",
              "      <th>director_name</th>\n",
              "      <th>writer_id</th>\n",
              "      <th>writer_name</th>\n",
              "      <th>storyline</th>\n",
              "      <th>user_id</th>\n",
              "      <th>user_name</th>\n",
              "      <th>review_id</th>\n",
              "      <th>review_title</th>\n",
              "      <th>review_content</th>\n",
              "    </tr>\n",
              "  </thead>\n",
              "  <tbody>\n",
              "    <tr>\n",
              "      <th>245</th>\n",
              "      <td>246</td>\n",
              "      <td>tt0071411</td>\n",
              "      <td>Dersu Uzala</td>\n",
              "      <td>1975</td>\n",
              "      <td>https://www.imdb.com/title/tt0071411</td>\n",
              "      <td>31,167</td>\n",
              "      <td>8.2</td>\n",
              "      <td>G</td>\n",
              "      <td>2h 22m</td>\n",
              "      <td>Adventure,Biography,Drama</td>\n",
              "      <td>...</td>\n",
              "      <td>nm0000041</td>\n",
              "      <td>Akira Kurosawa</td>\n",
              "      <td>nm0000041,nm0619330,nm0037539</td>\n",
              "      <td>Akira Kurosawa,Yuriy Nagibin,Vladimir Arsenev</td>\n",
              "      <td>The Russian army sends an explorer on an exped...</td>\n",
              "      <td>ur0453068,ur0491610,ur3212364,ur2488512,ur1911...</td>\n",
              "      <td>Quinoa1984,howard.schumann,Spondonman,claudio_...</td>\n",
              "      <td>rw1024676,rw0134934,rw1122059,rw2168879,rw2373...</td>\n",
              "      <td>a tribute to the endurance of man and nature, ...</td>\n",
              "      <td>For a variety of reasons (that are well known ...</td>\n",
              "    </tr>\n",
              "    <tr>\n",
              "      <th>246</th>\n",
              "      <td>247</td>\n",
              "      <td>tt1454029</td>\n",
              "      <td>The Help</td>\n",
              "      <td>2011</td>\n",
              "      <td>https://www.imdb.com/title/tt1454029</td>\n",
              "      <td>466,011</td>\n",
              "      <td>8.1</td>\n",
              "      <td>PG-13</td>\n",
              "      <td>2h 26m</td>\n",
              "      <td>Drama</td>\n",
              "      <td>...</td>\n",
              "      <td>nm0853238</td>\n",
              "      <td>Tate Taylor</td>\n",
              "      <td>nm0853238,nm3543826</td>\n",
              "      <td>Tate Taylor,Kathryn Stockett</td>\n",
              "      <td>An aspiring author during the civil rights mov...</td>\n",
              "      <td>ur0806494,ur1391596,ur24207576,ur2955724,ur221...</td>\n",
              "      <td>ferguson-6,JohnDeSando,taylor_king-890-815491,...</td>\n",
              "      <td>rw2473566,rw2472337,rw2472299,rw2697863,rw2488...</td>\n",
              "      <td>Minny Don't Burn Chicken,Ready to burst . . .,...</td>\n",
              "      <td>Greetings again from the darkness. The film is...</td>\n",
              "    </tr>\n",
              "    <tr>\n",
              "      <th>247</th>\n",
              "      <td>248</td>\n",
              "      <td>tt0103639</td>\n",
              "      <td>Aladdin</td>\n",
              "      <td>1992</td>\n",
              "      <td>https://www.imdb.com/title/tt0103639</td>\n",
              "      <td>429,219</td>\n",
              "      <td>8.0</td>\n",
              "      <td>G</td>\n",
              "      <td>1h 30m</td>\n",
              "      <td>Animation,Adventure,Comedy</td>\n",
              "      <td>...</td>\n",
              "      <td>nm0166256,nm0615780</td>\n",
              "      <td>Ron Clements,John Musker</td>\n",
              "      <td>tt0103639,nm0166256,nm0615780,nm0254645,tt0103639</td>\n",
              "      <td>Writers,Ron Clements,John Musker,Ted Elliott,</td>\n",
              "      <td>A kindhearted street urchin and a power-hungry...</td>\n",
              "      <td>ur1293485,ur1416505,ur4445210,ur4234119,ur0909...</td>\n",
              "      <td>Smells_Like_Cheese,Boba_Fett1138,ccthemovieman...</td>\n",
              "      <td>rw0302749,rw0950861,rw1571053,rw2534639,rw0302...</td>\n",
              "      <td>I'd put it in with the Disney classics,Great s...</td>\n",
              "      <td>Aladdin is such an awesome move that still get...</td>\n",
              "    </tr>\n",
              "    <tr>\n",
              "      <th>248</th>\n",
              "      <td>249</td>\n",
              "      <td>tt0083987</td>\n",
              "      <td>Gandhi</td>\n",
              "      <td>1982</td>\n",
              "      <td>https://www.imdb.com/title/tt0083987</td>\n",
              "      <td>234,688</td>\n",
              "      <td>8.0</td>\n",
              "      <td>PG</td>\n",
              "      <td>3h 11m</td>\n",
              "      <td>Biography,Drama,History</td>\n",
              "      <td>...</td>\n",
              "      <td>nm0000277</td>\n",
              "      <td>Richard Attenborough</td>\n",
              "      <td>nm0109300</td>\n",
              "      <td>John Briley</td>\n",
              "      <td>The life of the lawyer who became the famed le...</td>\n",
              "      <td>ur0954062,ur0688559,ur0176092,ur0940950,ur2620...</td>\n",
              "      <td>khatcher-2,tfrizzell,Nazi_Fighter_David,Rod-88...</td>\n",
              "      <td>rw0194126,rw1179566,rw1106866,rw0194132,rw0194...</td>\n",
              "      <td>Took nearly twenty years to make - not a singl...</td>\n",
              "      <td>Here indeed is one of the great films of the 2...</td>\n",
              "    </tr>\n",
              "    <tr>\n",
              "      <th>249</th>\n",
              "      <td>250</td>\n",
              "      <td>tt0099348</td>\n",
              "      <td>Dances with Wolves</td>\n",
              "      <td>1990</td>\n",
              "      <td>https://www.imdb.com/title/tt0099348</td>\n",
              "      <td>271,823</td>\n",
              "      <td>8.0</td>\n",
              "      <td>PG-13</td>\n",
              "      <td>3h 1m</td>\n",
              "      <td>Adventure,Drama,Western</td>\n",
              "      <td>...</td>\n",
              "      <td>nm0000126</td>\n",
              "      <td>Kevin Costner</td>\n",
              "      <td>nm0086658</td>\n",
              "      <td>Michael Blake</td>\n",
              "      <td>Lieutenant John Dunbar, assigned to a remote w...</td>\n",
              "      <td>ur66111139,ur16161013,ur20597848,ur1413169,ur5...</td>\n",
              "      <td>gbill-74877,hitchcockthelegend,bheadher,Philip...</td>\n",
              "      <td>rw6808367,rw2322324,rw4656461,rw0959913,rw1379...</td>\n",
              "      <td>Fantastic,It is the trail of a true human bein...</td>\n",
              "      <td>It's hard to think of blockbuster films that p...</td>\n",
              "    </tr>\n",
              "  </tbody>\n",
              "</table>\n",
              "<p>5 rows × 22 columns</p>\n",
              "</div>\n",
              "    <div class=\"colab-df-buttons\">\n",
              "\n",
              "  <div class=\"colab-df-container\">\n",
              "    <button class=\"colab-df-convert\" onclick=\"convertToInteractive('df-d02bbfc7-1984-4b26-aa54-a46e10eff17f')\"\n",
              "            title=\"Convert this dataframe to an interactive table.\"\n",
              "            style=\"display:none;\">\n",
              "\n",
              "  <svg xmlns=\"http://www.w3.org/2000/svg\" height=\"24px\" viewBox=\"0 -960 960 960\">\n",
              "    <path d=\"M120-120v-720h720v720H120Zm60-500h600v-160H180v160Zm220 220h160v-160H400v160Zm0 220h160v-160H400v160ZM180-400h160v-160H180v160Zm440 0h160v-160H620v160ZM180-180h160v-160H180v160Zm440 0h160v-160H620v160Z\"/>\n",
              "  </svg>\n",
              "    </button>\n",
              "\n",
              "  <style>\n",
              "    .colab-df-container {\n",
              "      display:flex;\n",
              "      gap: 12px;\n",
              "    }\n",
              "\n",
              "    .colab-df-convert {\n",
              "      background-color: #E8F0FE;\n",
              "      border: none;\n",
              "      border-radius: 50%;\n",
              "      cursor: pointer;\n",
              "      display: none;\n",
              "      fill: #1967D2;\n",
              "      height: 32px;\n",
              "      padding: 0 0 0 0;\n",
              "      width: 32px;\n",
              "    }\n",
              "\n",
              "    .colab-df-convert:hover {\n",
              "      background-color: #E2EBFA;\n",
              "      box-shadow: 0px 1px 2px rgba(60, 64, 67, 0.3), 0px 1px 3px 1px rgba(60, 64, 67, 0.15);\n",
              "      fill: #174EA6;\n",
              "    }\n",
              "\n",
              "    .colab-df-buttons div {\n",
              "      margin-bottom: 4px;\n",
              "    }\n",
              "\n",
              "    [theme=dark] .colab-df-convert {\n",
              "      background-color: #3B4455;\n",
              "      fill: #D2E3FC;\n",
              "    }\n",
              "\n",
              "    [theme=dark] .colab-df-convert:hover {\n",
              "      background-color: #434B5C;\n",
              "      box-shadow: 0px 1px 3px 1px rgba(0, 0, 0, 0.15);\n",
              "      filter: drop-shadow(0px 1px 2px rgba(0, 0, 0, 0.3));\n",
              "      fill: #FFFFFF;\n",
              "    }\n",
              "  </style>\n",
              "\n",
              "    <script>\n",
              "      const buttonEl =\n",
              "        document.querySelector('#df-d02bbfc7-1984-4b26-aa54-a46e10eff17f button.colab-df-convert');\n",
              "      buttonEl.style.display =\n",
              "        google.colab.kernel.accessAllowed ? 'block' : 'none';\n",
              "\n",
              "      async function convertToInteractive(key) {\n",
              "        const element = document.querySelector('#df-d02bbfc7-1984-4b26-aa54-a46e10eff17f');\n",
              "        const dataTable =\n",
              "          await google.colab.kernel.invokeFunction('convertToInteractive',\n",
              "                                                    [key], {});\n",
              "        if (!dataTable) return;\n",
              "\n",
              "        const docLinkHtml = 'Like what you see? Visit the ' +\n",
              "          '<a target=\"_blank\" href=https://colab.research.google.com/notebooks/data_table.ipynb>data table notebook</a>'\n",
              "          + ' to learn more about interactive tables.';\n",
              "        element.innerHTML = '';\n",
              "        dataTable['output_type'] = 'display_data';\n",
              "        await google.colab.output.renderOutput(dataTable, element);\n",
              "        const docLink = document.createElement('div');\n",
              "        docLink.innerHTML = docLinkHtml;\n",
              "        element.appendChild(docLink);\n",
              "      }\n",
              "    </script>\n",
              "  </div>\n",
              "\n",
              "\n",
              "<div id=\"df-51fca7cf-bf62-4841-84e0-9efcd85ede08\">\n",
              "  <button class=\"colab-df-quickchart\" onclick=\"quickchart('df-51fca7cf-bf62-4841-84e0-9efcd85ede08')\"\n",
              "            title=\"Suggest charts\"\n",
              "            style=\"display:none;\">\n",
              "\n",
              "<svg xmlns=\"http://www.w3.org/2000/svg\" height=\"24px\"viewBox=\"0 0 24 24\"\n",
              "     width=\"24px\">\n",
              "    <g>\n",
              "        <path d=\"M19 3H5c-1.1 0-2 .9-2 2v14c0 1.1.9 2 2 2h14c1.1 0 2-.9 2-2V5c0-1.1-.9-2-2-2zM9 17H7v-7h2v7zm4 0h-2V7h2v10zm4 0h-2v-4h2v4z\"/>\n",
              "    </g>\n",
              "</svg>\n",
              "  </button>\n",
              "\n",
              "<style>\n",
              "  .colab-df-quickchart {\n",
              "      --bg-color: #E8F0FE;\n",
              "      --fill-color: #1967D2;\n",
              "      --hover-bg-color: #E2EBFA;\n",
              "      --hover-fill-color: #174EA6;\n",
              "      --disabled-fill-color: #AAA;\n",
              "      --disabled-bg-color: #DDD;\n",
              "  }\n",
              "\n",
              "  [theme=dark] .colab-df-quickchart {\n",
              "      --bg-color: #3B4455;\n",
              "      --fill-color: #D2E3FC;\n",
              "      --hover-bg-color: #434B5C;\n",
              "      --hover-fill-color: #FFFFFF;\n",
              "      --disabled-bg-color: #3B4455;\n",
              "      --disabled-fill-color: #666;\n",
              "  }\n",
              "\n",
              "  .colab-df-quickchart {\n",
              "    background-color: var(--bg-color);\n",
              "    border: none;\n",
              "    border-radius: 50%;\n",
              "    cursor: pointer;\n",
              "    display: none;\n",
              "    fill: var(--fill-color);\n",
              "    height: 32px;\n",
              "    padding: 0;\n",
              "    width: 32px;\n",
              "  }\n",
              "\n",
              "  .colab-df-quickchart:hover {\n",
              "    background-color: var(--hover-bg-color);\n",
              "    box-shadow: 0 1px 2px rgba(60, 64, 67, 0.3), 0 1px 3px 1px rgba(60, 64, 67, 0.15);\n",
              "    fill: var(--button-hover-fill-color);\n",
              "  }\n",
              "\n",
              "  .colab-df-quickchart-complete:disabled,\n",
              "  .colab-df-quickchart-complete:disabled:hover {\n",
              "    background-color: var(--disabled-bg-color);\n",
              "    fill: var(--disabled-fill-color);\n",
              "    box-shadow: none;\n",
              "  }\n",
              "\n",
              "  .colab-df-spinner {\n",
              "    border: 2px solid var(--fill-color);\n",
              "    border-color: transparent;\n",
              "    border-bottom-color: var(--fill-color);\n",
              "    animation:\n",
              "      spin 1s steps(1) infinite;\n",
              "  }\n",
              "\n",
              "  @keyframes spin {\n",
              "    0% {\n",
              "      border-color: transparent;\n",
              "      border-bottom-color: var(--fill-color);\n",
              "      border-left-color: var(--fill-color);\n",
              "    }\n",
              "    20% {\n",
              "      border-color: transparent;\n",
              "      border-left-color: var(--fill-color);\n",
              "      border-top-color: var(--fill-color);\n",
              "    }\n",
              "    30% {\n",
              "      border-color: transparent;\n",
              "      border-left-color: var(--fill-color);\n",
              "      border-top-color: var(--fill-color);\n",
              "      border-right-color: var(--fill-color);\n",
              "    }\n",
              "    40% {\n",
              "      border-color: transparent;\n",
              "      border-right-color: var(--fill-color);\n",
              "      border-top-color: var(--fill-color);\n",
              "    }\n",
              "    60% {\n",
              "      border-color: transparent;\n",
              "      border-right-color: var(--fill-color);\n",
              "    }\n",
              "    80% {\n",
              "      border-color: transparent;\n",
              "      border-right-color: var(--fill-color);\n",
              "      border-bottom-color: var(--fill-color);\n",
              "    }\n",
              "    90% {\n",
              "      border-color: transparent;\n",
              "      border-bottom-color: var(--fill-color);\n",
              "    }\n",
              "  }\n",
              "</style>\n",
              "\n",
              "  <script>\n",
              "    async function quickchart(key) {\n",
              "      const quickchartButtonEl =\n",
              "        document.querySelector('#' + key + ' button');\n",
              "      quickchartButtonEl.disabled = true;  // To prevent multiple clicks.\n",
              "      quickchartButtonEl.classList.add('colab-df-spinner');\n",
              "      try {\n",
              "        const charts = await google.colab.kernel.invokeFunction(\n",
              "            'suggestCharts', [key], {});\n",
              "      } catch (error) {\n",
              "        console.error('Error during call to suggestCharts:', error);\n",
              "      }\n",
              "      quickchartButtonEl.classList.remove('colab-df-spinner');\n",
              "      quickchartButtonEl.classList.add('colab-df-quickchart-complete');\n",
              "    }\n",
              "    (() => {\n",
              "      let quickchartButtonEl =\n",
              "        document.querySelector('#df-51fca7cf-bf62-4841-84e0-9efcd85ede08 button');\n",
              "      quickchartButtonEl.style.display =\n",
              "        google.colab.kernel.accessAllowed ? 'block' : 'none';\n",
              "    })();\n",
              "  </script>\n",
              "</div>\n",
              "\n",
              "    </div>\n",
              "  </div>\n"
            ],
            "application/vnd.google.colaboratory.intrinsic+json": {
              "type": "dataframe"
            }
          },
          "metadata": {},
          "execution_count": 7
        }
      ]
    },
    {
      "cell_type": "code",
      "source": [
        "mv.describe()"
      ],
      "metadata": {
        "colab": {
          "base_uri": "https://localhost:8080/",
          "height": 300
        },
        "id": "w7g8qVBGHOl7",
        "outputId": "dbf97f94-e0b8-4afd-9820-c13103094d37"
      },
      "execution_count": 8,
      "outputs": [
        {
          "output_type": "execute_result",
          "data": {
            "text/plain": [
              "             rank         year  imbd_rating\n",
              "count  250.000000   250.000000   250.000000\n",
              "mean   125.500000  1986.360000     8.306800\n",
              "std     72.312977    25.125356     0.229006\n",
              "min      1.000000  1921.000000     8.000000\n",
              "25%     63.250000  1966.250000     8.100000\n",
              "50%    125.500000  1994.000000     8.200000\n",
              "75%    187.750000  2006.000000     8.400000\n",
              "max    250.000000  2022.000000     9.300000"
            ],
            "text/html": [
              "\n",
              "  <div id=\"df-a9781ad3-3043-44f5-b6b7-777be0cee020\" class=\"colab-df-container\">\n",
              "    <div>\n",
              "<style scoped>\n",
              "    .dataframe tbody tr th:only-of-type {\n",
              "        vertical-align: middle;\n",
              "    }\n",
              "\n",
              "    .dataframe tbody tr th {\n",
              "        vertical-align: top;\n",
              "    }\n",
              "\n",
              "    .dataframe thead th {\n",
              "        text-align: right;\n",
              "    }\n",
              "</style>\n",
              "<table border=\"1\" class=\"dataframe\">\n",
              "  <thead>\n",
              "    <tr style=\"text-align: right;\">\n",
              "      <th></th>\n",
              "      <th>rank</th>\n",
              "      <th>year</th>\n",
              "      <th>imbd_rating</th>\n",
              "    </tr>\n",
              "  </thead>\n",
              "  <tbody>\n",
              "    <tr>\n",
              "      <th>count</th>\n",
              "      <td>250.000000</td>\n",
              "      <td>250.000000</td>\n",
              "      <td>250.000000</td>\n",
              "    </tr>\n",
              "    <tr>\n",
              "      <th>mean</th>\n",
              "      <td>125.500000</td>\n",
              "      <td>1986.360000</td>\n",
              "      <td>8.306800</td>\n",
              "    </tr>\n",
              "    <tr>\n",
              "      <th>std</th>\n",
              "      <td>72.312977</td>\n",
              "      <td>25.125356</td>\n",
              "      <td>0.229006</td>\n",
              "    </tr>\n",
              "    <tr>\n",
              "      <th>min</th>\n",
              "      <td>1.000000</td>\n",
              "      <td>1921.000000</td>\n",
              "      <td>8.000000</td>\n",
              "    </tr>\n",
              "    <tr>\n",
              "      <th>25%</th>\n",
              "      <td>63.250000</td>\n",
              "      <td>1966.250000</td>\n",
              "      <td>8.100000</td>\n",
              "    </tr>\n",
              "    <tr>\n",
              "      <th>50%</th>\n",
              "      <td>125.500000</td>\n",
              "      <td>1994.000000</td>\n",
              "      <td>8.200000</td>\n",
              "    </tr>\n",
              "    <tr>\n",
              "      <th>75%</th>\n",
              "      <td>187.750000</td>\n",
              "      <td>2006.000000</td>\n",
              "      <td>8.400000</td>\n",
              "    </tr>\n",
              "    <tr>\n",
              "      <th>max</th>\n",
              "      <td>250.000000</td>\n",
              "      <td>2022.000000</td>\n",
              "      <td>9.300000</td>\n",
              "    </tr>\n",
              "  </tbody>\n",
              "</table>\n",
              "</div>\n",
              "    <div class=\"colab-df-buttons\">\n",
              "\n",
              "  <div class=\"colab-df-container\">\n",
              "    <button class=\"colab-df-convert\" onclick=\"convertToInteractive('df-a9781ad3-3043-44f5-b6b7-777be0cee020')\"\n",
              "            title=\"Convert this dataframe to an interactive table.\"\n",
              "            style=\"display:none;\">\n",
              "\n",
              "  <svg xmlns=\"http://www.w3.org/2000/svg\" height=\"24px\" viewBox=\"0 -960 960 960\">\n",
              "    <path d=\"M120-120v-720h720v720H120Zm60-500h600v-160H180v160Zm220 220h160v-160H400v160Zm0 220h160v-160H400v160ZM180-400h160v-160H180v160Zm440 0h160v-160H620v160ZM180-180h160v-160H180v160Zm440 0h160v-160H620v160Z\"/>\n",
              "  </svg>\n",
              "    </button>\n",
              "\n",
              "  <style>\n",
              "    .colab-df-container {\n",
              "      display:flex;\n",
              "      gap: 12px;\n",
              "    }\n",
              "\n",
              "    .colab-df-convert {\n",
              "      background-color: #E8F0FE;\n",
              "      border: none;\n",
              "      border-radius: 50%;\n",
              "      cursor: pointer;\n",
              "      display: none;\n",
              "      fill: #1967D2;\n",
              "      height: 32px;\n",
              "      padding: 0 0 0 0;\n",
              "      width: 32px;\n",
              "    }\n",
              "\n",
              "    .colab-df-convert:hover {\n",
              "      background-color: #E2EBFA;\n",
              "      box-shadow: 0px 1px 2px rgba(60, 64, 67, 0.3), 0px 1px 3px 1px rgba(60, 64, 67, 0.15);\n",
              "      fill: #174EA6;\n",
              "    }\n",
              "\n",
              "    .colab-df-buttons div {\n",
              "      margin-bottom: 4px;\n",
              "    }\n",
              "\n",
              "    [theme=dark] .colab-df-convert {\n",
              "      background-color: #3B4455;\n",
              "      fill: #D2E3FC;\n",
              "    }\n",
              "\n",
              "    [theme=dark] .colab-df-convert:hover {\n",
              "      background-color: #434B5C;\n",
              "      box-shadow: 0px 1px 3px 1px rgba(0, 0, 0, 0.15);\n",
              "      filter: drop-shadow(0px 1px 2px rgba(0, 0, 0, 0.3));\n",
              "      fill: #FFFFFF;\n",
              "    }\n",
              "  </style>\n",
              "\n",
              "    <script>\n",
              "      const buttonEl =\n",
              "        document.querySelector('#df-a9781ad3-3043-44f5-b6b7-777be0cee020 button.colab-df-convert');\n",
              "      buttonEl.style.display =\n",
              "        google.colab.kernel.accessAllowed ? 'block' : 'none';\n",
              "\n",
              "      async function convertToInteractive(key) {\n",
              "        const element = document.querySelector('#df-a9781ad3-3043-44f5-b6b7-777be0cee020');\n",
              "        const dataTable =\n",
              "          await google.colab.kernel.invokeFunction('convertToInteractive',\n",
              "                                                    [key], {});\n",
              "        if (!dataTable) return;\n",
              "\n",
              "        const docLinkHtml = 'Like what you see? Visit the ' +\n",
              "          '<a target=\"_blank\" href=https://colab.research.google.com/notebooks/data_table.ipynb>data table notebook</a>'\n",
              "          + ' to learn more about interactive tables.';\n",
              "        element.innerHTML = '';\n",
              "        dataTable['output_type'] = 'display_data';\n",
              "        await google.colab.output.renderOutput(dataTable, element);\n",
              "        const docLink = document.createElement('div');\n",
              "        docLink.innerHTML = docLinkHtml;\n",
              "        element.appendChild(docLink);\n",
              "      }\n",
              "    </script>\n",
              "  </div>\n",
              "\n",
              "\n",
              "<div id=\"df-a163fdd2-7a24-4d29-a73d-2348459a7ea7\">\n",
              "  <button class=\"colab-df-quickchart\" onclick=\"quickchart('df-a163fdd2-7a24-4d29-a73d-2348459a7ea7')\"\n",
              "            title=\"Suggest charts\"\n",
              "            style=\"display:none;\">\n",
              "\n",
              "<svg xmlns=\"http://www.w3.org/2000/svg\" height=\"24px\"viewBox=\"0 0 24 24\"\n",
              "     width=\"24px\">\n",
              "    <g>\n",
              "        <path d=\"M19 3H5c-1.1 0-2 .9-2 2v14c0 1.1.9 2 2 2h14c1.1 0 2-.9 2-2V5c0-1.1-.9-2-2-2zM9 17H7v-7h2v7zm4 0h-2V7h2v10zm4 0h-2v-4h2v4z\"/>\n",
              "    </g>\n",
              "</svg>\n",
              "  </button>\n",
              "\n",
              "<style>\n",
              "  .colab-df-quickchart {\n",
              "      --bg-color: #E8F0FE;\n",
              "      --fill-color: #1967D2;\n",
              "      --hover-bg-color: #E2EBFA;\n",
              "      --hover-fill-color: #174EA6;\n",
              "      --disabled-fill-color: #AAA;\n",
              "      --disabled-bg-color: #DDD;\n",
              "  }\n",
              "\n",
              "  [theme=dark] .colab-df-quickchart {\n",
              "      --bg-color: #3B4455;\n",
              "      --fill-color: #D2E3FC;\n",
              "      --hover-bg-color: #434B5C;\n",
              "      --hover-fill-color: #FFFFFF;\n",
              "      --disabled-bg-color: #3B4455;\n",
              "      --disabled-fill-color: #666;\n",
              "  }\n",
              "\n",
              "  .colab-df-quickchart {\n",
              "    background-color: var(--bg-color);\n",
              "    border: none;\n",
              "    border-radius: 50%;\n",
              "    cursor: pointer;\n",
              "    display: none;\n",
              "    fill: var(--fill-color);\n",
              "    height: 32px;\n",
              "    padding: 0;\n",
              "    width: 32px;\n",
              "  }\n",
              "\n",
              "  .colab-df-quickchart:hover {\n",
              "    background-color: var(--hover-bg-color);\n",
              "    box-shadow: 0 1px 2px rgba(60, 64, 67, 0.3), 0 1px 3px 1px rgba(60, 64, 67, 0.15);\n",
              "    fill: var(--button-hover-fill-color);\n",
              "  }\n",
              "\n",
              "  .colab-df-quickchart-complete:disabled,\n",
              "  .colab-df-quickchart-complete:disabled:hover {\n",
              "    background-color: var(--disabled-bg-color);\n",
              "    fill: var(--disabled-fill-color);\n",
              "    box-shadow: none;\n",
              "  }\n",
              "\n",
              "  .colab-df-spinner {\n",
              "    border: 2px solid var(--fill-color);\n",
              "    border-color: transparent;\n",
              "    border-bottom-color: var(--fill-color);\n",
              "    animation:\n",
              "      spin 1s steps(1) infinite;\n",
              "  }\n",
              "\n",
              "  @keyframes spin {\n",
              "    0% {\n",
              "      border-color: transparent;\n",
              "      border-bottom-color: var(--fill-color);\n",
              "      border-left-color: var(--fill-color);\n",
              "    }\n",
              "    20% {\n",
              "      border-color: transparent;\n",
              "      border-left-color: var(--fill-color);\n",
              "      border-top-color: var(--fill-color);\n",
              "    }\n",
              "    30% {\n",
              "      border-color: transparent;\n",
              "      border-left-color: var(--fill-color);\n",
              "      border-top-color: var(--fill-color);\n",
              "      border-right-color: var(--fill-color);\n",
              "    }\n",
              "    40% {\n",
              "      border-color: transparent;\n",
              "      border-right-color: var(--fill-color);\n",
              "      border-top-color: var(--fill-color);\n",
              "    }\n",
              "    60% {\n",
              "      border-color: transparent;\n",
              "      border-right-color: var(--fill-color);\n",
              "    }\n",
              "    80% {\n",
              "      border-color: transparent;\n",
              "      border-right-color: var(--fill-color);\n",
              "      border-bottom-color: var(--fill-color);\n",
              "    }\n",
              "    90% {\n",
              "      border-color: transparent;\n",
              "      border-bottom-color: var(--fill-color);\n",
              "    }\n",
              "  }\n",
              "</style>\n",
              "\n",
              "  <script>\n",
              "    async function quickchart(key) {\n",
              "      const quickchartButtonEl =\n",
              "        document.querySelector('#' + key + ' button');\n",
              "      quickchartButtonEl.disabled = true;  // To prevent multiple clicks.\n",
              "      quickchartButtonEl.classList.add('colab-df-spinner');\n",
              "      try {\n",
              "        const charts = await google.colab.kernel.invokeFunction(\n",
              "            'suggestCharts', [key], {});\n",
              "      } catch (error) {\n",
              "        console.error('Error during call to suggestCharts:', error);\n",
              "      }\n",
              "      quickchartButtonEl.classList.remove('colab-df-spinner');\n",
              "      quickchartButtonEl.classList.add('colab-df-quickchart-complete');\n",
              "    }\n",
              "    (() => {\n",
              "      let quickchartButtonEl =\n",
              "        document.querySelector('#df-a163fdd2-7a24-4d29-a73d-2348459a7ea7 button');\n",
              "      quickchartButtonEl.style.display =\n",
              "        google.colab.kernel.accessAllowed ? 'block' : 'none';\n",
              "    })();\n",
              "  </script>\n",
              "</div>\n",
              "\n",
              "    </div>\n",
              "  </div>\n"
            ],
            "application/vnd.google.colaboratory.intrinsic+json": {
              "type": "dataframe",
              "summary": "{\n  \"name\": \"mv\",\n  \"rows\": 8,\n  \"fields\": [\n    {\n      \"column\": \"rank\",\n      \"properties\": {\n        \"dtype\": \"number\",\n        \"std\": 89.79662880154827,\n        \"min\": 1.0,\n        \"max\": 250.0,\n        \"num_unique_values\": 6,\n        \"samples\": [\n          250.0,\n          125.5,\n          187.75\n        ],\n        \"semantic_type\": \"\",\n        \"description\": \"\"\n      }\n    },\n    {\n      \"column\": \"year\",\n      \"properties\": {\n        \"dtype\": \"number\",\n        \"std\": 856.724952212034,\n        \"min\": 25.125356398199532,\n        \"max\": 2022.0,\n        \"num_unique_values\": 8,\n        \"samples\": [\n          1986.36,\n          1994.0,\n          250.0\n        ],\n        \"semantic_type\": \"\",\n        \"description\": \"\"\n      }\n    },\n    {\n      \"column\": \"imbd_rating\",\n      \"properties\": {\n        \"dtype\": \"number\",\n        \"std\": 85.88425272993406,\n        \"min\": 0.22900553298238513,\n        \"max\": 250.0,\n        \"num_unique_values\": 8,\n        \"samples\": [\n          8.306799999999999,\n          8.2,\n          250.0\n        ],\n        \"semantic_type\": \"\",\n        \"description\": \"\"\n      }\n    }\n  ]\n}"
            }
          },
          "metadata": {},
          "execution_count": 8
        }
      ]
    },
    {
      "cell_type": "code",
      "source": [
        "mv.info()"
      ],
      "metadata": {
        "colab": {
          "base_uri": "https://localhost:8080/"
        },
        "id": "S7QXTX0JGiGI",
        "outputId": "d70ce6e6-ce5a-49ea-f266-5f5f4564ae1a"
      },
      "execution_count": 9,
      "outputs": [
        {
          "output_type": "stream",
          "name": "stdout",
          "text": [
            "<class 'pandas.core.frame.DataFrame'>\n",
            "RangeIndex: 250 entries, 0 to 249\n",
            "Data columns (total 22 columns):\n",
            " #   Column          Non-Null Count  Dtype  \n",
            "---  ------          --------------  -----  \n",
            " 0   rank            250 non-null    int64  \n",
            " 1   movie_id        250 non-null    object \n",
            " 2   title           250 non-null    object \n",
            " 3   year            250 non-null    int64  \n",
            " 4   link            250 non-null    object \n",
            " 5   imbd_votes      250 non-null    object \n",
            " 6   imbd_rating     250 non-null    float64\n",
            " 7   certificate     249 non-null    object \n",
            " 8   duration        250 non-null    object \n",
            " 9   genre           250 non-null    object \n",
            " 10  cast_id         250 non-null    object \n",
            " 11  cast_name       250 non-null    object \n",
            " 12  director_id     250 non-null    object \n",
            " 13  director_name   250 non-null    object \n",
            " 14  writer_id       250 non-null    object \n",
            " 15  writer_name     250 non-null    object \n",
            " 16  storyline       250 non-null    object \n",
            " 17  user_id         250 non-null    object \n",
            " 18  user_name       250 non-null    object \n",
            " 19  review_id       250 non-null    object \n",
            " 20  review_title    250 non-null    object \n",
            " 21  review_content  250 non-null    object \n",
            "dtypes: float64(1), int64(2), object(19)\n",
            "memory usage: 43.1+ KB\n"
          ]
        }
      ]
    },
    {
      "cell_type": "code",
      "source": [
        "mv.shape"
      ],
      "metadata": {
        "colab": {
          "base_uri": "https://localhost:8080/"
        },
        "id": "CkF_6Fv3GwTL",
        "outputId": "2fc194aa-4432-4c16-9e9f-3ac4b7c542eb"
      },
      "execution_count": 10,
      "outputs": [
        {
          "output_type": "execute_result",
          "data": {
            "text/plain": [
              "(250, 22)"
            ]
          },
          "metadata": {},
          "execution_count": 10
        }
      ]
    },
    {
      "cell_type": "markdown",
      "source": [
        "so in this file we have 250 rows and 22 columns. lets find if there are null values in it."
      ],
      "metadata": {
        "id": "iLxkoxEuG17u"
      }
    },
    {
      "cell_type": "code",
      "source": [
        "# To figure out if there are any null values in the dataset\n",
        "mv.isnull().sum()\n"
      ],
      "metadata": {
        "colab": {
          "base_uri": "https://localhost:8080/"
        },
        "id": "33_pn9mnG_KZ",
        "outputId": "b849d4b0-4db0-4ba2-f9e2-8c2243f05af9"
      },
      "execution_count": 11,
      "outputs": [
        {
          "output_type": "execute_result",
          "data": {
            "text/plain": [
              "rank              0\n",
              "movie_id          0\n",
              "title             0\n",
              "year              0\n",
              "link              0\n",
              "imbd_votes        0\n",
              "imbd_rating       0\n",
              "certificate       1\n",
              "duration          0\n",
              "genre             0\n",
              "cast_id           0\n",
              "cast_name         0\n",
              "director_id       0\n",
              "director_name     0\n",
              "writer_id         0\n",
              "writer_name       0\n",
              "storyline         0\n",
              "user_id           0\n",
              "user_name         0\n",
              "review_id         0\n",
              "review_title      0\n",
              "review_content    0\n",
              "dtype: int64"
            ]
          },
          "metadata": {},
          "execution_count": 11
        }
      ]
    },
    {
      "cell_type": "code",
      "source": [
        "#Handelling null values in dataset\n",
        "mv = mv.dropna()"
      ],
      "metadata": {
        "id": "WRr40y-uHefD"
      },
      "execution_count": 12,
      "outputs": []
    },
    {
      "cell_type": "code",
      "source": [
        "mv.isnull().sum()"
      ],
      "metadata": {
        "colab": {
          "base_uri": "https://localhost:8080/"
        },
        "id": "T4wCXtgrHyUu",
        "outputId": "b25aab87-7753-4bd5-96a0-147981565892"
      },
      "execution_count": 13,
      "outputs": [
        {
          "output_type": "execute_result",
          "data": {
            "text/plain": [
              "rank              0\n",
              "movie_id          0\n",
              "title             0\n",
              "year              0\n",
              "link              0\n",
              "imbd_votes        0\n",
              "imbd_rating       0\n",
              "certificate       0\n",
              "duration          0\n",
              "genre             0\n",
              "cast_id           0\n",
              "cast_name         0\n",
              "director_id       0\n",
              "director_name     0\n",
              "writer_id         0\n",
              "writer_name       0\n",
              "storyline         0\n",
              "user_id           0\n",
              "user_name         0\n",
              "review_id         0\n",
              "review_title      0\n",
              "review_content    0\n",
              "dtype: int64"
            ]
          },
          "metadata": {},
          "execution_count": 13
        }
      ]
    },
    {
      "cell_type": "code",
      "source": [
        "mv.info()"
      ],
      "metadata": {
        "colab": {
          "base_uri": "https://localhost:8080/"
        },
        "id": "YRwoGtcaH1KV",
        "outputId": "4eba7f67-76a0-4bcc-eeaa-34a9ac426b69"
      },
      "execution_count": 14,
      "outputs": [
        {
          "output_type": "stream",
          "name": "stdout",
          "text": [
            "<class 'pandas.core.frame.DataFrame'>\n",
            "Int64Index: 249 entries, 0 to 249\n",
            "Data columns (total 22 columns):\n",
            " #   Column          Non-Null Count  Dtype  \n",
            "---  ------          --------------  -----  \n",
            " 0   rank            249 non-null    int64  \n",
            " 1   movie_id        249 non-null    object \n",
            " 2   title           249 non-null    object \n",
            " 3   year            249 non-null    int64  \n",
            " 4   link            249 non-null    object \n",
            " 5   imbd_votes      249 non-null    object \n",
            " 6   imbd_rating     249 non-null    float64\n",
            " 7   certificate     249 non-null    object \n",
            " 8   duration        249 non-null    object \n",
            " 9   genre           249 non-null    object \n",
            " 10  cast_id         249 non-null    object \n",
            " 11  cast_name       249 non-null    object \n",
            " 12  director_id     249 non-null    object \n",
            " 13  director_name   249 non-null    object \n",
            " 14  writer_id       249 non-null    object \n",
            " 15  writer_name     249 non-null    object \n",
            " 16  storyline       249 non-null    object \n",
            " 17  user_id         249 non-null    object \n",
            " 18  user_name       249 non-null    object \n",
            " 19  review_id       249 non-null    object \n",
            " 20  review_title    249 non-null    object \n",
            " 21  review_content  249 non-null    object \n",
            "dtypes: float64(1), int64(2), object(19)\n",
            "memory usage: 44.7+ KB\n"
          ]
        }
      ]
    },
    {
      "cell_type": "markdown",
      "source": [
        "Lets start now analysing the dataset with following questions -\n",
        "1. What is the range of years covered in the dataset?\n",
        "2. How does the distribution of IMDb ratings differ between movies with a \"PG\" certification and\n",
        "those with an \"R\" certification?\n",
        "3. What is the average duration of movies in the dataset?\n",
        "4. Which movie has the highest IMDb rating?\n",
        "5. How many movies have IMDb ratings above 8.5?\n",
        "6. What is the most common movie certification?\n",
        "7. How many movies fall under the \"Drama\" genre?\n",
        "8. What is the distribution of movie durations in the dataset?\n",
        "9. How many movies were released in the 1970s?\n",
        "10. Which genre has the highest average IMDb rating?\n",
        "11. What is the median IMDb rating of the movies?\n",
        "12. How many movies have IMDb ratings between 8.0 and 8.5?\n",
        "13. What is the average number of IMDb votes for movies in the dataset?\n",
        "14. How many movies have a duration of exactly 2 hours?\n",
        "15. What is the distribution of IMDb ratings across different certification types?\n",
        "16. How many movies have IMDb ratings above 9.0 and fall under the \"Drama\" genre?\n",
        "17. What is the most common IMDb rating range among the movies?\n",
        "18. How many movies have IMDb ratings between 8.0 and 9.0 and are certified as \"R\"?\n",
        "19. How does the distribution of IMDb ratings vary across different decades?\n",
        "20. Which movie has the longest duration and what is it's IMDb rating?"
      ],
      "metadata": {
        "id": "1SgqKj6iIJgj"
      }
    },
    {
      "cell_type": "code",
      "source": [
        "mv.columns"
      ],
      "metadata": {
        "colab": {
          "base_uri": "https://localhost:8080/"
        },
        "id": "007Ay38TIX-v",
        "outputId": "eb0e5dad-4be7-481f-9497-c782c7238046"
      },
      "execution_count": 15,
      "outputs": [
        {
          "output_type": "execute_result",
          "data": {
            "text/plain": [
              "Index(['rank', 'movie_id', 'title', 'year', 'link', 'imbd_votes',\n",
              "       'imbd_rating', 'certificate', 'duration', 'genre', 'cast_id',\n",
              "       'cast_name', 'director_id', 'director_name', 'writer_id', 'writer_name',\n",
              "       'storyline', 'user_id', 'user_name', 'review_id', 'review_title',\n",
              "       'review_content'],\n",
              "      dtype='object')"
            ]
          },
          "metadata": {},
          "execution_count": 15
        }
      ]
    },
    {
      "cell_type": "code",
      "source": [
        "#1.What is the range of years covered in the dataset?\n",
        "print(\"This Dataset contains movies from the date \" + str(mv.year.min()) + \" till \" + str(mv.year.max()))\n",
        "\n"
      ],
      "metadata": {
        "colab": {
          "base_uri": "https://localhost:8080/"
        },
        "id": "5l5l3tekIkfi",
        "outputId": "c4f08600-7a50-42d9-bfdd-eba2c49b8c1a"
      },
      "execution_count": 16,
      "outputs": [
        {
          "output_type": "stream",
          "name": "stdout",
          "text": [
            "This Dataset contains movies from the date 1921 till 2022\n"
          ]
        }
      ]
    },
    {
      "cell_type": "code",
      "source": [
        "#2.How does the distribution of IMDb ratings differ between movies with a \"PG\" certification and those with an \"R\" certification?\n",
        "# Filter movies with \"PG\" certification\n",
        "pg_movies = mv[mv['certificate'] == \"PG\"]\n",
        "\n",
        "# Filter movies with \"R\" certification\n",
        "r_movies = mv[mv['certificate'] == \"R\"]\n",
        "\n",
        "# Plotting the distribution of IMDb ratings\n",
        "plt.figure(figsize=(10, 6))\n",
        "plt.hist(pg_movies['imbd_rating'], bins=40, alpha=0.5, label='PG')\n",
        "plt.hist(r_movies['imbd_rating'], bins=40, alpha=0.5, label='R')\n",
        "plt.xlabel('IMDb Rating')\n",
        "plt.ylabel('Frequency')\n",
        "plt.title('Distribution of IMDb Ratings: PG vs R')\n",
        "plt.legend()\n",
        "plt.show()"
      ],
      "metadata": {
        "colab": {
          "base_uri": "https://localhost:8080/",
          "height": 564
        },
        "id": "CO9Vk7YmKFiZ",
        "outputId": "2b111e34-4ec1-4451-e50e-79bcd2f2727d"
      },
      "execution_count": 17,
      "outputs": [
        {
          "output_type": "display_data",
          "data": {
            "text/plain": [
              "<Figure size 1000x600 with 1 Axes>"
            ],
            "image/png": "[encoded data removed]"
          },
          "metadata": {}
        }
      ]
    },
    {
      "cell_type": "code",
      "source": [
        "# Trying different approach\n",
        "# Filter movies with \"PG\" certification\n",
        "pg_movies = mv[mv['certificate'] == \"PG\"]\n",
        "\n",
        "# Filter movies with \"R\" certification\n",
        "r_movies = mv[mv['certificate'] == \"R\"]\n",
        "\n",
        "# Calculate average IMDb rating for \"PG\" and \"R\" movies\n",
        "pg_avg_rating = pg_movies['imbd_rating'].mean()\n",
        "r_avg_rating = r_movies['imbd_rating'].mean()\n",
        "\n",
        "# Plotting the bar chart\n",
        "plt.figure(figsize=(8, 6))\n",
        "plt.bar(['PG', 'R'], [pg_avg_rating, r_avg_rating], color=['blue', 'red'])\n",
        "plt.xlabel('Certification')\n",
        "plt.ylabel('Average IMDb Rating')\n",
        "plt.title('Average IMDb Rating for PG and R Certified Movies')\n",
        "plt.show()"
      ],
      "metadata": {
        "colab": {
          "base_uri": "https://localhost:8080/",
          "height": 564
        },
        "id": "VGon12CRi1XZ",
        "outputId": "c83d5e4a-ee96-4469-ff58-87724b9eae95"
      },
      "execution_count": 18,
      "outputs": [
        {
          "output_type": "display_data",
          "data": {
            "text/plain": [
              "<Figure size 800x600 with 1 Axes>"
            ],
            "image/png": "[encoded data removed]"
          },
          "metadata": {}
        }
      ]
    },
    {
      "cell_type": "code",
      "source": [
        "#3. What is the average duration of movies in the dataset?\n",
        "# Initialize variables\n",
        "total_minutes = 0\n",
        "num_movies = 0\n",
        "\n",
        "# Iterate over each duration string\n",
        "for duration_str in mv['duration']:\n",
        "    parts = duration_str.split()\n",
        "    if len(parts) == 2:  # Check if the parts list contains both hours and minutes\n",
        "        hours = int(parts[0][:-1])  # Extract hours, remove 'h', and convert to integer\n",
        "        minutes = int(parts[1][:-1])  # Extract minutes, remove 'm', and convert to integer\n",
        "        total_minutes += hours * 60 + minutes\n",
        "        num_movies += 1\n",
        "    elif 'h' in duration_str:  # If only hours are present\n",
        "        hours = int(duration_str.split()[0][:-1])  # Extract hours, remove 'h', and convert to integer\n",
        "        total_minutes += hours * 60\n",
        "        num_movies += 1\n",
        "    elif 'm' in duration_str:  # If only minutes are present\n",
        "        minutes = int(duration_str.split()[0][:-1])  # Extract minutes, remove 'm', and convert to integer\n",
        "        total_minutes += minutes\n",
        "        num_movies += 1\n",
        "\n",
        "# Calculate average duration in minutes\n",
        "average_duration_minutes = total_minutes / num_movies\n",
        "\n",
        "# Convert average duration back to hours and minutes\n",
        "average_hours = int(average_duration_minutes / 60)\n",
        "average_minutes = int(average_duration_minutes % 60)\n",
        "\n",
        "print(\"Average duration of movies:\", average_hours, \"hours\", average_minutes, \"minutes\")\n"
      ],
      "metadata": {
        "id": "W8666qOB1042",
        "colab": {
          "base_uri": "https://localhost:8080/"
        },
        "outputId": "01c2de4c-50a0-478b-92f5-da05b55fa7e7"
      },
      "execution_count": 19,
      "outputs": [
        {
          "output_type": "stream",
          "name": "stdout",
          "text": [
            "Average duration of movies: 2 hours 9 minutes\n"
          ]
        }
      ]
    },
    {
      "cell_type": "code",
      "source": [
        "#4.Which movie has the highest IMDb rating?\n",
        "# First Find the index of the row with the highest IMDb rating\n",
        "max_rating_index = mv['imbd_rating'].idxmax()\n",
        "\n",
        "# Then Get the title and IMDb rating of the movie with the highest IMDb rating\n",
        "movie_with_highest_rating = mv.loc[max_rating_index, 'title']\n",
        "highest_rating = mv.loc[max_rating_index, 'imbd_rating']\n",
        "\n",
        "print(\"Movie with the highest IMDb rating:\", movie_with_highest_rating + \"with Rating\", highest_rating)\n",
        "#print(\"IMDb rating:\", highest_rating)\n",
        "\n"
      ],
      "metadata": {
        "colab": {
          "base_uri": "https://localhost:8080/"
        },
        "id": "qgCS9YJnpdLJ",
        "outputId": "7695b578-febf-4769-9b0f-e80cf6e1f984"
      },
      "execution_count": 20,
      "outputs": [
        {
          "output_type": "stream",
          "name": "stdout",
          "text": [
            "Movie with the highest IMDb rating: The Shawshank Redemptionwith Rating 9.3\n"
          ]
        }
      ]
    },
    {
      "cell_type": "code",
      "source": [
        "#5. How many movies have IMDb ratings above 8.5?\n",
        "\n",
        "num_movies_above_8_5 = mv[mv['imbd_rating'] > 8.5].shape[0]\n",
        "\n",
        "print(\"Number of movies with IMDb ratings above 8.5:\", num_movies_above_8_5)\n"
      ],
      "metadata": {
        "colab": {
          "base_uri": "https://localhost:8080/"
        },
        "id": "9vpwGvTeq2Kf",
        "outputId": "3df9a77e-0c43-47a8-a4b8-64266329bd84"
      },
      "execution_count": 21,
      "outputs": [
        {
          "output_type": "stream",
          "name": "stdout",
          "text": [
            "Number of movies with IMDb ratings above 8.5: 32\n"
          ]
        }
      ]
    },
    {
      "cell_type": "code",
      "source": [
        "#6.What is the most common movie certification?\n",
        "\n",
        "\n",
        "most_common_certification = mv['certificate'].value_counts().idxmax()\n",
        "\n",
        "print(\"Most common movie certification:\", most_common_certification)\n",
        "\n"
      ],
      "metadata": {
        "colab": {
          "base_uri": "https://localhost:8080/"
        },
        "id": "Xax7pHFTrALI",
        "outputId": "698deaef-beff-4b81-9e3e-c03838b5753a"
      },
      "execution_count": 22,
      "outputs": [
        {
          "output_type": "stream",
          "name": "stdout",
          "text": [
            "Most common movie certification: R\n"
          ]
        }
      ]
    },
    {
      "cell_type": "code",
      "source": [
        "#7.How many movies fall under the \"Drama\" genre?\n",
        "\n",
        "num_drama_movies = mv[mv['genre'].str.contains('Drama', case=False)].shape[0]\n",
        "\n",
        "print(\"Number of movies under the 'Drama' genre:\", num_drama_movies)\n"
      ],
      "metadata": {
        "colab": {
          "base_uri": "https://localhost:8080/"
        },
        "id": "lM-01AOKrY18",
        "outputId": "624e85b7-43d7-4418-ba93-784ac236540c"
      },
      "execution_count": 23,
      "outputs": [
        {
          "output_type": "stream",
          "name": "stdout",
          "text": [
            "Number of movies under the 'Drama' genre: 176\n"
          ]
        }
      ]
    },
    {
      "cell_type": "code",
      "source": [
        "#8. What is the distribution of movie durations in the dataset?\n",
        "import matplotlib.pyplot as plt\n",
        "\n",
        "# Plot histogram of movie durations\n",
        "plt.hist(mv['duration'], bins=20, color='skyblue', edgecolor='black')\n",
        "plt.title('Distribution of Movie Durations')\n",
        "plt.xlabel('Duration')\n",
        "plt.ylabel('Frequency')\n",
        "plt.grid(True)\n",
        "plt.show()\n",
        "\n",
        "\n"
      ],
      "metadata": {
        "colab": {
          "base_uri": "https://localhost:8080/",
          "height": 472
        },
        "id": "42wUJ2Qfr-sA",
        "outputId": "e71b34c2-98af-4203-fd23-74e244e60628"
      },
      "execution_count": 24,
      "outputs": [
        {
          "output_type": "display_data",
          "data": {
            "text/plain": [
              "<Figure size 640x480 with 1 Axes>"
            ],
            "image/png": "[encoded data removed]"
          },
          "metadata": {}
        }
      ]
    },
    {
      "cell_type": "code",
      "source": [
        "#How many movies were released in the 1970s?\n",
        "\n",
        "num_movies_1970s = mv[(mv['year'] >= 1970) & (mv['year'] < 1980)].shape[0]\n",
        "\n",
        "print(\"Number of movies released in the 1970s:\", num_movies_1970s)\n"
      ],
      "metadata": {
        "colab": {
          "base_uri": "https://localhost:8080/"
        },
        "id": "aIWdnhvrsrDb",
        "outputId": "4d02b550-703f-4bbd-f696-6ce9ed7c2f36"
      },
      "execution_count": 25,
      "outputs": [
        {
          "output_type": "stream",
          "name": "stdout",
          "text": [
            "Number of movies released in the 1970s: 19\n"
          ]
        }
      ]
    },
    {
      "cell_type": "code",
      "source": [
        "#10. Which genre has the highest average IMDb rating\n",
        "\n",
        "genre_avg_rating = mv.groupby('genre')['imbd_rating'].mean()\n",
        "\n",
        "# Find the genre with the highest average IMDb rating\n",
        "highest_avg_rating_genre = genre_avg_rating.idxmax()\n",
        "highest_avg_rating = genre_avg_rating.max()\n",
        "\n",
        "print(\"Genre with the highest average IMDb rating:\", highest_avg_rating_genre)\n",
        "print(\"Average IMDb rating for this genre:\", highest_avg_rating)\n"
      ],
      "metadata": {
        "colab": {
          "base_uri": "https://localhost:8080/"
        },
        "id": "8Qr-2ehbs-GB",
        "outputId": "07521ccf-6082-4830-d74b-0d8a5a274da6"
      },
      "execution_count": 26,
      "outputs": [
        {
          "output_type": "stream",
          "name": "stdout",
          "text": [
            "Genre with the highest average IMDb rating: Adventure,Western\n",
            "Average IMDb rating for this genre: 8.8\n"
          ]
        }
      ]
    },
    {
      "cell_type": "code",
      "source": [
        "#11. What is the median IMDb rating of the movies?\n",
        "median_imdb_rating = mv['imbd_rating'].median()\n",
        "print(\"Median IMDb rating of the movies:\", median_imdb_rating)\n"
      ],
      "metadata": {
        "colab": {
          "base_uri": "https://localhost:8080/"
        },
        "id": "MzLO0LWWtRwi",
        "outputId": "1ff7d973-08ba-4f2d-b968-258e3d8b7a8a"
      },
      "execution_count": 27,
      "outputs": [
        {
          "output_type": "stream",
          "name": "stdout",
          "text": [
            "Median IMDb rating of the movies: 8.2\n"
          ]
        }
      ]
    },
    {
      "cell_type": "code",
      "source": [
        "#12. How many movies have IMDb ratings between 8.0 and 8.5?\n",
        "\n",
        "num_movies_between_8_and_8_5 = mv[(mv['imbd_rating'] >= 8.0) & (mv['imbd_rating'] < 8.5)].shape[0]\n",
        "\n",
        "print(\"Number of movies with IMDb ratings between 8.0 and 8.5:\", num_movies_between_8_and_8_5)\n"
      ],
      "metadata": {
        "colab": {
          "base_uri": "https://localhost:8080/"
        },
        "id": "vsmtPTrHtabU",
        "outputId": "35f8f168-3d5a-497a-8940-acd92e5fd66c"
      },
      "execution_count": 28,
      "outputs": [
        {
          "output_type": "stream",
          "name": "stdout",
          "text": [
            "Number of movies with IMDb ratings between 8.0 and 8.5: 195\n"
          ]
        }
      ]
    },
    {
      "cell_type": "code",
      "source": [
        "#13. What is the average number of IMDb votes for movies in the dataset?\n",
        "\n",
        "# Remove commas from the 'imbd_votes' column and then convert it to float\n",
        "mv['imbd_votes'] = mv['imbd_votes'].str.replace(',', '').astype(float)\n",
        "\n",
        "# Calculate the average number of IMDb votes for movies in the dataset\n",
        "average_imdb_votes = mv['imbd_votes'].mean()\n",
        "\n",
        "print(\"Average number of IMDb votes for movies in the dataset:\", average_imdb_votes)\n",
        "\n",
        "\n",
        "\n"
      ],
      "metadata": {
        "colab": {
          "base_uri": "https://localhost:8080/"
        },
        "id": "MR0EojPutpiW",
        "outputId": "d20a3c91-731b-4b87-b804-48c1e67e5a8a"
      },
      "execution_count": 37,
      "outputs": [
        {
          "output_type": "stream",
          "name": "stdout",
          "text": [
            "Average number of IMDb votes for movies in the dataset: 649362.734939759\n"
          ]
        }
      ]
    },
    {
      "cell_type": "code",
      "source": [
        "#14. How many movies have a duration of exactly 2 hours?\n",
        "\n",
        "num_movies_2_hours = mv[mv['duration'] == '2h'].shape[0]\n",
        "\n",
        "print(\"Number of movies with a duration of exactly 2 hours:\", num_movies_2_hours)\n"
      ],
      "metadata": {
        "colab": {
          "base_uri": "https://localhost:8080/"
        },
        "id": "yWQO106oucdo",
        "outputId": "321f3fe1-0289-4e7a-b623-9b7d04b90a71"
      },
      "execution_count": 30,
      "outputs": [
        {
          "output_type": "stream",
          "name": "stdout",
          "text": [
            "Number of movies with a duration of exactly 2 hours: 4\n"
          ]
        }
      ]
    },
    {
      "cell_type": "code",
      "source": [
        "#What is the distribution of IMDb ratings across different certification types?\n",
        "import seaborn as sns\n",
        "import matplotlib.pyplot as plt\n",
        "\n",
        "# Create a boxplot\n",
        "plt.figure(figsize=(12, 6))\n",
        "sns.boxplot(x='certificate', y='imbd_rating', data=mv, palette='Set3')\n",
        "plt.title('Distribution of IMDb Ratings Across Different Certification Types')\n",
        "plt.xlabel('Certification Type')\n",
        "plt.ylabel('IMDb Rating')\n",
        "plt.xticks(rotation=45)\n",
        "plt.grid(True)\n",
        "plt.show()\n"
      ],
      "metadata": {
        "colab": {
          "base_uri": "https://localhost:8080/",
          "height": 669
        },
        "id": "Z4dS4iBDutdg",
        "outputId": "15bf6209-61dc-4730-fc9e-bbdef90be0b7"
      },
      "execution_count": 31,
      "outputs": [
        {
          "output_type": "stream",
          "name": "stderr",
          "text": [
            "<ipython-input-31-b1fa1c2c50c7>:7: FutureWarning: \n",
            "\n",
            "Passing `palette` without assigning `hue` is deprecated and will be removed in v0.14.0. Assign the `x` variable to `hue` and set `legend=False` for the same effect.\n",
            "\n",
            "  sns.boxplot(x='certificate', y='imbd_rating', data=mv, palette='Set3')\n"
          ]
        },
        {
          "output_type": "display_data",
          "data": {
            "text/plain": [
              "<Figure size 1200x600 with 1 Axes>"
            ],
            "image/png": "[encoded data removed]"
          },
          "metadata": {}
        }
      ]
    },
    {
      "cell_type": "code",
      "source": [
        "#16.How many movies have IMDb ratings above 9.0 and fall under the \"Drama\" genre?\n",
        "\n",
        "num_movies_above_9_drama = mv[(mv['imbd_rating'] > 9.0) & (mv['genre'].str.contains('Drama', case=False))].shape[0]\n",
        "\n",
        "print(\"Number of movies with IMDb ratings above 9.0 and fall under the 'Drama' genre:\", num_movies_above_9_drama)\n"
      ],
      "metadata": {
        "colab": {
          "base_uri": "https://localhost:8080/"
        },
        "id": "EBlkbjtUu749",
        "outputId": "4d52cfce-eddd-4248-eb29-534747882947"
      },
      "execution_count": 32,
      "outputs": [
        {
          "output_type": "stream",
          "name": "stdout",
          "text": [
            "Number of movies with IMDb ratings above 9.0 and fall under the 'Drama' genre: 2\n"
          ]
        }
      ]
    },
    {
      "cell_type": "code",
      "source": [
        "#17. What is the most common IMDb rating range among the movies?\n",
        "import matplotlib.pyplot as plt\n",
        "\n",
        "# Define IMDb rating ranges\n",
        "rating_ranges = [0, 2, 4, 6, 8, 10]\n",
        "\n",
        "# Plot histogram of IMDb ratings\n",
        "plt.hist(mv['imbd_rating'], bins=rating_ranges, color='skyblue', edgecolor='black')\n",
        "plt.title('Distribution of IMDb Ratings')\n",
        "plt.xlabel('IMDb Rating')\n",
        "plt.ylabel('Frequency')\n",
        "plt.xticks(rating_ranges)\n",
        "plt.grid(True)\n",
        "plt.show()\n"
      ],
      "metadata": {
        "colab": {
          "base_uri": "https://localhost:8080/",
          "height": 472
        },
        "id": "Dd3mmNfEvMeZ",
        "outputId": "59b09566-a368-4758-8316-119341b776ab"
      },
      "execution_count": 33,
      "outputs": [
        {
          "output_type": "display_data",
          "data": {
            "text/plain": [
              "<Figure size 640x480 with 1 Axes>"
            ],
            "image/png": "[encoded data removed]"
          },
          "metadata": {}
        }
      ]
    },
    {
      "cell_type": "code",
      "source": [
        "#18. How many movies have IMDb ratings between 8.0 and 9.0 and are certified as \"R\"?\n",
        "num_movies_8_to_9_rated_r = mv[(mv['imbd_rating'] >= 8.0) & (mv['imbd_rating'] < 9.0) & (mv['certificate'] == 'R')].shape[0]\n",
        "\n",
        "print(\"Number of movies with IMDb ratings between 8.0 and 9.0 and certified as 'R':\", num_movies_8_to_9_rated_r)\n"
      ],
      "metadata": {
        "colab": {
          "base_uri": "https://localhost:8080/"
        },
        "id": "C4sM28SovcfH",
        "outputId": "39fa809a-1b5f-4847-9e3e-9268b7de94a9"
      },
      "execution_count": 34,
      "outputs": [
        {
          "output_type": "stream",
          "name": "stdout",
          "text": [
            "Number of movies with IMDb ratings between 8.0 and 9.0 and certified as 'R': 93\n"
          ]
        }
      ]
    },
    {
      "cell_type": "code",
      "source": [
        "#19. How does the distribution of IMDb ratings vary across different decades?\n",
        "import seaborn as sns\n",
        "import matplotlib.pyplot as plt\n",
        "\n",
        "# Extract the decade from the 'year' column\n",
        "mv['decade'] = (mv['year'] // 10) * 10\n",
        "\n",
        "# Create a boxplot\n",
        "plt.figure(figsize=(12, 6))\n",
        "sns.boxplot(x='decade', y='imbd_rating', data=mv, palette='Set3')\n",
        "plt.title('Distribution of IMDb Ratings Across Different Decades')\n",
        "plt.xlabel('Decade')\n",
        "plt.ylabel('IMDb Rating')\n",
        "plt.xticks(rotation=45)\n",
        "plt.grid(True)\n",
        "plt.show()\n"
      ],
      "metadata": {
        "colab": {
          "base_uri": "https://localhost:8080/",
          "height": 647
        },
        "id": "NS5hXfEQvpTi",
        "outputId": "45f8ae89-db48-4f88-b091-03931a54f188"
      },
      "execution_count": 35,
      "outputs": [
        {
          "output_type": "stream",
          "name": "stderr",
          "text": [
            "<ipython-input-35-ff3db86a8ebf>:10: FutureWarning: \n",
            "\n",
            "Passing `palette` without assigning `hue` is deprecated and will be removed in v0.14.0. Assign the `x` variable to `hue` and set `legend=False` for the same effect.\n",
            "\n",
            "  sns.boxplot(x='decade', y='imbd_rating', data=mv, palette='Set3')\n"
          ]
        },
        {
          "output_type": "display_data",
          "data": {
            "text/plain": [
              "<Figure size 1200x600 with 1 Axes>"
            ],
            "image/png": "[encoded data removed]"
          },
          "metadata": {}
        }
      ]
    },
    {
      "cell_type": "code",
      "source": [
        "#20 Which movie has the longest duration and what is it's IMDb rating\n",
        "# Initialize variables to store information about the movie with the longest duration\n",
        "max_duration = -1\n",
        "max_duration_movie_title = \"\"\n",
        "max_duration_imdb_rating = None\n",
        "\n",
        "# Iterate through each row in the DataFrame\n",
        "for index, row in mv.iterrows():\n",
        "    # Splitting the duration string and extracting hours and minutes\n",
        "    parts = row['duration'].split()\n",
        "    hours = int(parts[0][:-1]) if len(parts) > 1 else 0\n",
        "    minutes = int(parts[1][:-1]) if len(parts) > 1 else int(parts[0][:-1])\n",
        "\n",
        "    # Converting duration to total minutes\n",
        "    duration_minutes = hours * 60 + minutes\n",
        "\n",
        "    # Check if the duration of the current movie is longer than the current maximum duration\n",
        "    if duration_minutes > max_duration:\n",
        "        max_duration = duration_minutes\n",
        "        max_duration_movie_title = row['title']\n",
        "        max_duration_imdb_rating = row['imbd_rating']\n",
        "\n",
        "print(\"Movie with the longest duration:\", max_duration_movie_title)\n",
        "print(\"IMDb rating of the movie:\", max_duration_imdb_rating)\n",
        "\n"
      ],
      "metadata": {
        "colab": {
          "base_uri": "https://localhost:8080/"
        },
        "id": "kp_MTWOgwJrU",
        "outputId": "21944ea7-2173-42a1-e7de-d8feb99ce890"
      },
      "execution_count": 36,
      "outputs": [
        {
          "output_type": "stream",
          "name": "stdout",
          "text": [
            "Movie with the longest duration: Gone with the Wind\n",
            "IMDb rating of the movie: 8.2\n"
          ]
        }
      ]
    }
  ]
}