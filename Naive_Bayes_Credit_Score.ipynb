{
  "nbformat": 4,
  "nbformat_minor": 0,
  "metadata": {
    "colab": {
      "provenance": [],
      "authorship_tag": "ABX9TyMFdqYrGxEKW4W1sB10XwBH",
      "include_colab_link": true
    },
    "kernelspec": {
      "name": "python3",
      "display_name": "Python 3"
    },
    "language_info": {
      "name": "python"
    }
  },
  "cells": [
    {
      "cell_type": "markdown",
      "metadata": {
        "id": "view-in-github",
        "colab_type": "text"
      },
      "source": [
        "<a href=\"https://colab.research.google.com/github/salianbharat/BE_DS_Assignment/blob/main/Naive_Bayes_Credit_Score.ipynb\" target=\"_parent\"><img src=\"https://colab.research.google.com/assets/colab-badge.svg\" alt=\"Open In Colab\"/></a>"
      ]
    },
    {
      "cell_type": "code",
      "execution_count": 20,
      "metadata": {
        "id": "f1iO5OuN6V_Z"
      },
      "outputs": [],
      "source": [
        "# For data manipulation and analysis\n",
        "import pandas as pd\n",
        "\n",
        "# For preprocessing data, including one-hot encoding, label encoding, and binning\n",
        "from sklearn.preprocessing import OneHotEncoder, LabelEncoder, KBinsDiscretizer\n",
        "\n",
        "# For splitting the dataset into training and testing sets\n",
        "from sklearn.model_selection import train_test_split\n",
        "\n",
        "# For building the Naive Bayes model\n",
        "from sklearn.naive_bayes import GaussianNB\n",
        "\n",
        "# For evaluating the model's performance\n",
        "from sklearn.metrics import accuracy_score, classification_report\n"
      ]
    },
    {
      "cell_type": "markdown",
      "source": [
        "# Step 2: Loading and Exploring the Dataset"
      ],
      "metadata": {
        "id": "25YSMkKaFTAD"
      }
    },
    {
      "cell_type": "code",
      "source": [
        "cs_original = pd.read_csv(\"/content/Credit Score Classification Dataset.csv\")"
      ],
      "metadata": {
        "id": "k74Zq_GJ6x46"
      },
      "execution_count": 3,
      "outputs": []
    },
    {
      "cell_type": "markdown",
      "source": [
        "# Display basic information about the dataset"
      ],
      "metadata": {
        "id": "oyRISGNeFYBC"
      }
    },
    {
      "cell_type": "code",
      "source": [
        "cs_original.head()"
      ],
      "metadata": {
        "colab": {
          "base_uri": "https://localhost:8080/",
          "height": 206
        },
        "id": "4rokZjF16_97",
        "outputId": "d370d1e4-2160-4c29-d373-5dc53f80309b"
      },
      "execution_count": 4,
      "outputs": [
        {
          "output_type": "execute_result",
          "data": {
            "text/plain": [
              "   Age  Gender  Income            Education Marital Status  \\\n",
              "0   25  Female   50000    Bachelor's Degree         Single   \n",
              "1   30    Male  100000      Master's Degree        Married   \n",
              "2   35  Female   75000            Doctorate        Married   \n",
              "3   40    Male  125000  High School Diploma         Single   \n",
              "4   45  Female  100000    Bachelor's Degree        Married   \n",
              "\n",
              "   Number of Children Home Ownership Credit Score  \n",
              "0                   0         Rented         High  \n",
              "1                   2          Owned         High  \n",
              "2                   1          Owned         High  \n",
              "3                   0          Owned         High  \n",
              "4                   3          Owned         High  "
            ],
            "text/html": [
              "\n",
              "  <div id=\"df-c70b1481-f8cc-41d3-a76a-7cdbc7757692\" class=\"colab-df-container\">\n",
              "    <div>\n",
              "<style scoped>\n",
              "    .dataframe tbody tr th:only-of-type {\n",
              "        vertical-align: middle;\n",
              "    }\n",
              "\n",
              "    .dataframe tbody tr th {\n",
              "        vertical-align: top;\n",
              "    }\n",
              "\n",
              "    .dataframe thead th {\n",
              "        text-align: right;\n",
              "    }\n",
              "</style>\n",
              "<table border=\"1\" class=\"dataframe\">\n",
              "  <thead>\n",
              "    <tr style=\"text-align: right;\">\n",
              "      <th></th>\n",
              "      <th>Age</th>\n",
              "      <th>Gender</th>\n",
              "      <th>Income</th>\n",
              "      <th>Education</th>\n",
              "      <th>Marital Status</th>\n",
              "      <th>Number of Children</th>\n",
              "      <th>Home Ownership</th>\n",
              "      <th>Credit Score</th>\n",
              "    </tr>\n",
              "  </thead>\n",
              "  <tbody>\n",
              "    <tr>\n",
              "      <th>0</th>\n",
              "      <td>25</td>\n",
              "      <td>Female</td>\n",
              "      <td>50000</td>\n",
              "      <td>Bachelor's Degree</td>\n",
              "      <td>Single</td>\n",
              "      <td>0</td>\n",
              "      <td>Rented</td>\n",
              "      <td>High</td>\n",
              "    </tr>\n",
              "    <tr>\n",
              "      <th>1</th>\n",
              "      <td>30</td>\n",
              "      <td>Male</td>\n",
              "      <td>100000</td>\n",
              "      <td>Master's Degree</td>\n",
              "      <td>Married</td>\n",
              "      <td>2</td>\n",
              "      <td>Owned</td>\n",
              "      <td>High</td>\n",
              "    </tr>\n",
              "    <tr>\n",
              "      <th>2</th>\n",
              "      <td>35</td>\n",
              "      <td>Female</td>\n",
              "      <td>75000</td>\n",
              "      <td>Doctorate</td>\n",
              "      <td>Married</td>\n",
              "      <td>1</td>\n",
              "      <td>Owned</td>\n",
              "      <td>High</td>\n",
              "    </tr>\n",
              "    <tr>\n",
              "      <th>3</th>\n",
              "      <td>40</td>\n",
              "      <td>Male</td>\n",
              "      <td>125000</td>\n",
              "      <td>High School Diploma</td>\n",
              "      <td>Single</td>\n",
              "      <td>0</td>\n",
              "      <td>Owned</td>\n",
              "      <td>High</td>\n",
              "    </tr>\n",
              "    <tr>\n",
              "      <th>4</th>\n",
              "      <td>45</td>\n",
              "      <td>Female</td>\n",
              "      <td>100000</td>\n",
              "      <td>Bachelor's Degree</td>\n",
              "      <td>Married</td>\n",
              "      <td>3</td>\n",
              "      <td>Owned</td>\n",
              "      <td>High</td>\n",
              "    </tr>\n",
              "  </tbody>\n",
              "</table>\n",
              "</div>\n",
              "    <div class=\"colab-df-buttons\">\n",
              "\n",
              "  <div class=\"colab-df-container\">\n",
              "    <button class=\"colab-df-convert\" onclick=\"convertToInteractive('df-c70b1481-f8cc-41d3-a76a-7cdbc7757692')\"\n",
              "            title=\"Convert this dataframe to an interactive table.\"\n",
              "            style=\"display:none;\">\n",
              "\n",
              "  <svg xmlns=\"http://www.w3.org/2000/svg\" height=\"24px\" viewBox=\"0 -960 960 960\">\n",
              "    <path d=\"M120-120v-720h720v720H120Zm60-500h600v-160H180v160Zm220 220h160v-160H400v160Zm0 220h160v-160H400v160ZM180-400h160v-160H180v160Zm440 0h160v-160H620v160ZM180-180h160v-160H180v160Zm440 0h160v-160H620v160Z\"/>\n",
              "  </svg>\n",
              "    </button>\n",
              "\n",
              "  <style>\n",
              "    .colab-df-container {\n",
              "      display:flex;\n",
              "      gap: 12px;\n",
              "    }\n",
              "\n",
              "    .colab-df-convert {\n",
              "      background-color: #E8F0FE;\n",
              "      border: none;\n",
              "      border-radius: 50%;\n",
              "      cursor: pointer;\n",
              "      display: none;\n",
              "      fill: #1967D2;\n",
              "      height: 32px;\n",
              "      padding: 0 0 0 0;\n",
              "      width: 32px;\n",
              "    }\n",
              "\n",
              "    .colab-df-convert:hover {\n",
              "      background-color: #E2EBFA;\n",
              "      box-shadow: 0px 1px 2px rgba(60, 64, 67, 0.3), 0px 1px 3px 1px rgba(60, 64, 67, 0.15);\n",
              "      fill: #174EA6;\n",
              "    }\n",
              "\n",
              "    .colab-df-buttons div {\n",
              "      margin-bottom: 4px;\n",
              "    }\n",
              "\n",
              "    [theme=dark] .colab-df-convert {\n",
              "      background-color: #3B4455;\n",
              "      fill: #D2E3FC;\n",
              "    }\n",
              "\n",
              "    [theme=dark] .colab-df-convert:hover {\n",
              "      background-color: #434B5C;\n",
              "      box-shadow: 0px 1px 3px 1px rgba(0, 0, 0, 0.15);\n",
              "      filter: drop-shadow(0px 1px 2px rgba(0, 0, 0, 0.3));\n",
              "      fill: #FFFFFF;\n",
              "    }\n",
              "  </style>\n",
              "\n",
              "    <script>\n",
              "      const buttonEl =\n",
              "        document.querySelector('#df-c70b1481-f8cc-41d3-a76a-7cdbc7757692 button.colab-df-convert');\n",
              "      buttonEl.style.display =\n",
              "        google.colab.kernel.accessAllowed ? 'block' : 'none';\n",
              "\n",
              "      async function convertToInteractive(key) {\n",
              "        const element = document.querySelector('#df-c70b1481-f8cc-41d3-a76a-7cdbc7757692');\n",
              "        const dataTable =\n",
              "          await google.colab.kernel.invokeFunction('convertToInteractive',\n",
              "                                                    [key], {});\n",
              "        if (!dataTable) return;\n",
              "\n",
              "        const docLinkHtml = 'Like what you see? Visit the ' +\n",
              "          '<a target=\"_blank\" href=https://colab.research.google.com/notebooks/data_table.ipynb>data table notebook</a>'\n",
              "          + ' to learn more about interactive tables.';\n",
              "        element.innerHTML = '';\n",
              "        dataTable['output_type'] = 'display_data';\n",
              "        await google.colab.output.renderOutput(dataTable, element);\n",
              "        const docLink = document.createElement('div');\n",
              "        docLink.innerHTML = docLinkHtml;\n",
              "        element.appendChild(docLink);\n",
              "      }\n",
              "    </script>\n",
              "  </div>\n",
              "\n",
              "\n",
              "<div id=\"df-1fa63650-1d3a-4103-8ba8-2fb774428ada\">\n",
              "  <button class=\"colab-df-quickchart\" onclick=\"quickchart('df-1fa63650-1d3a-4103-8ba8-2fb774428ada')\"\n",
              "            title=\"Suggest charts\"\n",
              "            style=\"display:none;\">\n",
              "\n",
              "<svg xmlns=\"http://www.w3.org/2000/svg\" height=\"24px\"viewBox=\"0 0 24 24\"\n",
              "     width=\"24px\">\n",
              "    <g>\n",
              "        <path d=\"M19 3H5c-1.1 0-2 .9-2 2v14c0 1.1.9 2 2 2h14c1.1 0 2-.9 2-2V5c0-1.1-.9-2-2-2zM9 17H7v-7h2v7zm4 0h-2V7h2v10zm4 0h-2v-4h2v4z\"/>\n",
              "    </g>\n",
              "</svg>\n",
              "  </button>\n",
              "\n",
              "<style>\n",
              "  .colab-df-quickchart {\n",
              "      --bg-color: #E8F0FE;\n",
              "      --fill-color: #1967D2;\n",
              "      --hover-bg-color: #E2EBFA;\n",
              "      --hover-fill-color: #174EA6;\n",
              "      --disabled-fill-color: #AAA;\n",
              "      --disabled-bg-color: #DDD;\n",
              "  }\n",
              "\n",
              "  [theme=dark] .colab-df-quickchart {\n",
              "      --bg-color: #3B4455;\n",
              "      --fill-color: #D2E3FC;\n",
              "      --hover-bg-color: #434B5C;\n",
              "      --hover-fill-color: #FFFFFF;\n",
              "      --disabled-bg-color: #3B4455;\n",
              "      --disabled-fill-color: #666;\n",
              "  }\n",
              "\n",
              "  .colab-df-quickchart {\n",
              "    background-color: var(--bg-color);\n",
              "    border: none;\n",
              "    border-radius: 50%;\n",
              "    cursor: pointer;\n",
              "    display: none;\n",
              "    fill: var(--fill-color);\n",
              "    height: 32px;\n",
              "    padding: 0;\n",
              "    width: 32px;\n",
              "  }\n",
              "\n",
              "  .colab-df-quickchart:hover {\n",
              "    background-color: var(--hover-bg-color);\n",
              "    box-shadow: 0 1px 2px rgba(60, 64, 67, 0.3), 0 1px 3px 1px rgba(60, 64, 67, 0.15);\n",
              "    fill: var(--button-hover-fill-color);\n",
              "  }\n",
              "\n",
              "  .colab-df-quickchart-complete:disabled,\n",
              "  .colab-df-quickchart-complete:disabled:hover {\n",
              "    background-color: var(--disabled-bg-color);\n",
              "    fill: var(--disabled-fill-color);\n",
              "    box-shadow: none;\n",
              "  }\n",
              "\n",
              "  .colab-df-spinner {\n",
              "    border: 2px solid var(--fill-color);\n",
              "    border-color: transparent;\n",
              "    border-bottom-color: var(--fill-color);\n",
              "    animation:\n",
              "      spin 1s steps(1) infinite;\n",
              "  }\n",
              "\n",
              "  @keyframes spin {\n",
              "    0% {\n",
              "      border-color: transparent;\n",
              "      border-bottom-color: var(--fill-color);\n",
              "      border-left-color: var(--fill-color);\n",
              "    }\n",
              "    20% {\n",
              "      border-color: transparent;\n",
              "      border-left-color: var(--fill-color);\n",
              "      border-top-color: var(--fill-color);\n",
              "    }\n",
              "    30% {\n",
              "      border-color: transparent;\n",
              "      border-left-color: var(--fill-color);\n",
              "      border-top-color: var(--fill-color);\n",
              "      border-right-color: var(--fill-color);\n",
              "    }\n",
              "    40% {\n",
              "      border-color: transparent;\n",
              "      border-right-color: var(--fill-color);\n",
              "      border-top-color: var(--fill-color);\n",
              "    }\n",
              "    60% {\n",
              "      border-color: transparent;\n",
              "      border-right-color: var(--fill-color);\n",
              "    }\n",
              "    80% {\n",
              "      border-color: transparent;\n",
              "      border-right-color: var(--fill-color);\n",
              "      border-bottom-color: var(--fill-color);\n",
              "    }\n",
              "    90% {\n",
              "      border-color: transparent;\n",
              "      border-bottom-color: var(--fill-color);\n",
              "    }\n",
              "  }\n",
              "</style>\n",
              "\n",
              "  <script>\n",
              "    async function quickchart(key) {\n",
              "      const quickchartButtonEl =\n",
              "        document.querySelector('#' + key + ' button');\n",
              "      quickchartButtonEl.disabled = true;  // To prevent multiple clicks.\n",
              "      quickchartButtonEl.classList.add('colab-df-spinner');\n",
              "      try {\n",
              "        const charts = await google.colab.kernel.invokeFunction(\n",
              "            'suggestCharts', [key], {});\n",
              "      } catch (error) {\n",
              "        console.error('Error during call to suggestCharts:', error);\n",
              "      }\n",
              "      quickchartButtonEl.classList.remove('colab-df-spinner');\n",
              "      quickchartButtonEl.classList.add('colab-df-quickchart-complete');\n",
              "    }\n",
              "    (() => {\n",
              "      let quickchartButtonEl =\n",
              "        document.querySelector('#df-1fa63650-1d3a-4103-8ba8-2fb774428ada button');\n",
              "      quickchartButtonEl.style.display =\n",
              "        google.colab.kernel.accessAllowed ? 'block' : 'none';\n",
              "    })();\n",
              "  </script>\n",
              "</div>\n",
              "\n",
              "    </div>\n",
              "  </div>\n"
            ],
            "application/vnd.google.colaboratory.intrinsic+json": {
              "type": "dataframe",
              "variable_name": "cs_original",
              "summary": "{\n  \"name\": \"cs_original\",\n  \"rows\": 164,\n  \"fields\": [\n    {\n      \"column\": \"Age\",\n      \"properties\": {\n        \"dtype\": \"number\",\n        \"std\": 8,\n        \"min\": 25,\n        \"max\": 53,\n        \"num_unique_values\": 29,\n        \"samples\": [\n          44,\n          47,\n          27\n        ],\n        \"semantic_type\": \"\",\n        \"description\": \"\"\n      }\n    },\n    {\n      \"column\": \"Gender\",\n      \"properties\": {\n        \"dtype\": \"category\",\n        \"num_unique_values\": 2,\n        \"samples\": [\n          \"Male\",\n          \"Female\"\n        ],\n        \"semantic_type\": \"\",\n        \"description\": \"\"\n      }\n    },\n    {\n      \"column\": \"Income\",\n      \"properties\": {\n        \"dtype\": \"number\",\n        \"std\": 32457,\n        \"min\": 25000,\n        \"max\": 162500,\n        \"num_unique_values\": 52,\n        \"samples\": [\n          25000,\n          142500\n        ],\n        \"semantic_type\": \"\",\n        \"description\": \"\"\n      }\n    },\n    {\n      \"column\": \"Education\",\n      \"properties\": {\n        \"dtype\": \"category\",\n        \"num_unique_values\": 5,\n        \"samples\": [\n          \"Master's Degree\",\n          \"Associate's Degree\"\n        ],\n        \"semantic_type\": \"\",\n        \"description\": \"\"\n      }\n    },\n    {\n      \"column\": \"Marital Status\",\n      \"properties\": {\n        \"dtype\": \"category\",\n        \"num_unique_values\": 2,\n        \"samples\": [\n          \"Married\",\n          \"Single\"\n        ],\n        \"semantic_type\": \"\",\n        \"description\": \"\"\n      }\n    },\n    {\n      \"column\": \"Number of Children\",\n      \"properties\": {\n        \"dtype\": \"number\",\n        \"std\": 0,\n        \"min\": 0,\n        \"max\": 3,\n        \"num_unique_values\": 4,\n        \"samples\": [\n          2,\n          3\n        ],\n        \"semantic_type\": \"\",\n        \"description\": \"\"\n      }\n    },\n    {\n      \"column\": \"Home Ownership\",\n      \"properties\": {\n        \"dtype\": \"category\",\n        \"num_unique_values\": 2,\n        \"samples\": [\n          \"Owned\",\n          \"Rented\"\n        ],\n        \"semantic_type\": \"\",\n        \"description\": \"\"\n      }\n    },\n    {\n      \"column\": \"Credit Score\",\n      \"properties\": {\n        \"dtype\": \"category\",\n        \"num_unique_values\": 3,\n        \"samples\": [\n          \"High\",\n          \"Average\"\n        ],\n        \"semantic_type\": \"\",\n        \"description\": \"\"\n      }\n    }\n  ]\n}"
            }
          },
          "metadata": {},
          "execution_count": 4
        }
      ]
    },
    {
      "cell_type": "markdown",
      "source": [
        "information About the Dataset\n",
        "\n",
        "This dataset contains information about a sample of over 100 people across the world. The data includes the following information:\n",
        "\n",
        "1.Age\n",
        "2.Gender\n",
        "3.Income\n",
        "Education\n",
        "Marital Status\n",
        "Number of Children\n",
        "Home Ownership\n",
        "Credit Score\n",
        "Usability\n"
      ],
      "metadata": {
        "id": "e4wnQIpk7KnT"
      }
    },
    {
      "cell_type": "markdown",
      "source": [
        "# Use .info() to display a summary of the DataFrame."
      ],
      "metadata": {
        "id": "Y53gTKoo9JQZ"
      }
    },
    {
      "cell_type": "code",
      "source": [
        "print(\"Dataset Info:\\n\")\n",
        "cs_original.info()"
      ],
      "metadata": {
        "colab": {
          "base_uri": "https://localhost:8080/"
        },
        "id": "DB0tcGUO7Pbu",
        "outputId": "33cfb579-bc11-436d-bd4d-3f43e5cdf950"
      },
      "execution_count": 21,
      "outputs": [
        {
          "output_type": "stream",
          "name": "stdout",
          "text": [
            "Dataset Info:\n",
            "\n",
            "<class 'pandas.core.frame.DataFrame'>\n",
            "RangeIndex: 164 entries, 0 to 163\n",
            "Data columns (total 8 columns):\n",
            " #   Column              Non-Null Count  Dtype \n",
            "---  ------              --------------  ----- \n",
            " 0   Age                 164 non-null    int64 \n",
            " 1   Gender              164 non-null    object\n",
            " 2   Income              164 non-null    int64 \n",
            " 3   Education           164 non-null    object\n",
            " 4   Marital Status      164 non-null    object\n",
            " 5   Number of Children  164 non-null    int64 \n",
            " 6   Home Ownership      164 non-null    object\n",
            " 7   Credit Score        164 non-null    object\n",
            "dtypes: int64(3), object(5)\n",
            "memory usage: 10.4+ KB\n"
          ]
        }
      ]
    },
    {
      "cell_type": "markdown",
      "source": [
        "Dataset is having non null values and having 3 integer feature and 5 object types feature."
      ],
      "metadata": {
        "id": "HNNWHZi27WPY"
      }
    },
    {
      "cell_type": "code",
      "source": [
        "# Display number of rows, number of columns.\n",
        "cs_original.shape"
      ],
      "metadata": {
        "colab": {
          "base_uri": "https://localhost:8080/"
        },
        "id": "eJ_tRM5d8mOi",
        "outputId": "86d4f6f5-42cb-4b79-f699-5c89e7e4817b"
      },
      "execution_count": 6,
      "outputs": [
        {
          "output_type": "execute_result",
          "data": {
            "text/plain": [
              "(164, 8)"
            ]
          },
          "metadata": {},
          "execution_count": 6
        }
      ]
    },
    {
      "cell_type": "code",
      "source": [
        "# Display all column names.\n",
        "cs_original.columns"
      ],
      "metadata": {
        "colab": {
          "base_uri": "https://localhost:8080/"
        },
        "id": "GbKFOyHm8qVz",
        "outputId": "5b23c45c-6f83-4306-d820-de0a6f1c9dc4"
      },
      "execution_count": 7,
      "outputs": [
        {
          "output_type": "execute_result",
          "data": {
            "text/plain": [
              "Index(['Age', 'Gender', 'Income', 'Education', 'Marital Status',\n",
              "       'Number of Children', 'Home Ownership', 'Credit Score'],\n",
              "      dtype='object')"
            ]
          },
          "metadata": {},
          "execution_count": 7
        }
      ]
    },
    {
      "cell_type": "code",
      "source": [
        "# Display the number of missing values in each column.\n",
        "# Check whether each value is missing.\n",
        "#Aggregate the number of missing values per column.\n",
        "cs_original.isnull().sum()"
      ],
      "metadata": {
        "colab": {
          "base_uri": "https://localhost:8080/"
        },
        "id": "iJn3hCgL9S73",
        "outputId": "aa1e204a-badc-42ba-de9d-eefed13ebe5c"
      },
      "execution_count": 8,
      "outputs": [
        {
          "output_type": "execute_result",
          "data": {
            "text/plain": [
              "Age                   0\n",
              "Gender                0\n",
              "Income                0\n",
              "Education             0\n",
              "Marital Status        0\n",
              "Number of Children    0\n",
              "Home Ownership        0\n",
              "Credit Score          0\n",
              "dtype: int64"
            ]
          },
          "metadata": {},
          "execution_count": 8
        }
      ]
    },
    {
      "cell_type": "markdown",
      "source": [],
      "metadata": {
        "id": "b-F1H0O_9RCI"
      }
    },
    {
      "cell_type": "code",
      "source": [
        "print(\"\\nDescriptive Statistics:\\n\", cs_original.describe(include='all'))"
      ],
      "metadata": {
        "colab": {
          "base_uri": "https://localhost:8080/"
        },
        "id": "svpX49YtFraM",
        "outputId": "3240dec3-e0ce-471f-991e-4b657df7988f"
      },
      "execution_count": 22,
      "outputs": [
        {
          "output_type": "stream",
          "name": "stdout",
          "text": [
            "\n",
            "Descriptive Statistics:\n",
            "                Age  Gender         Income          Education Marital Status  \\\n",
            "count   164.000000     164     164.000000                164            164   \n",
            "unique         NaN       2            NaN                  5              2   \n",
            "top            NaN  Female            NaN  Bachelor's Degree        Married   \n",
            "freq           NaN      86            NaN                 42             87   \n",
            "mean     37.975610     NaN   83765.243902                NaN            NaN   \n",
            "std       8.477289     NaN   32457.306728                NaN            NaN   \n",
            "min      25.000000     NaN   25000.000000                NaN            NaN   \n",
            "25%      30.750000     NaN   57500.000000                NaN            NaN   \n",
            "50%      37.000000     NaN   83750.000000                NaN            NaN   \n",
            "75%      45.000000     NaN  105000.000000                NaN            NaN   \n",
            "max      53.000000     NaN  162500.000000                NaN            NaN   \n",
            "\n",
            "        Number of Children Home Ownership Credit Score  \n",
            "count           164.000000            164          164  \n",
            "unique                 NaN              2            3  \n",
            "top                    NaN          Owned         High  \n",
            "freq                   NaN            111          113  \n",
            "mean              0.652439            NaN          NaN  \n",
            "std               0.883346            NaN          NaN  \n",
            "min               0.000000            NaN          NaN  \n",
            "25%               0.000000            NaN          NaN  \n",
            "50%               0.000000            NaN          NaN  \n",
            "75%               1.000000            NaN          NaN  \n",
            "max               3.000000            NaN          NaN  \n"
          ]
        }
      ]
    },
    {
      "cell_type": "markdown",
      "source": [
        "# The conclusion of the descriptive statistics for this dataset is as follows:\n",
        "\n",
        "**Age:**\n",
        "\n",
        "The mean age is approximately 38 years, with a standard deviation of about 8.5 years.\n",
        "\n",
        "The youngest individual is 25 years old, and the oldest is 53 years old.\n",
        "\n",
        "**Gender:**\n",
        "\n",
        "There are two unique genders in the dataset: Male and Female.\n",
        "The frequency of females is slightly higher, with 86 occurrences out of 164.\n",
        "\n",
        "**Income:**\n",
        "\n",
        "The mean income is approximately $83,765, with a standard deviation of about $32,457.\n",
        "Incomes range from $25,000 to $162,500.\n",
        "\n",
        "**Education:**\n",
        "\n",
        "There are five unique levels of education: High School Diploma, Associate's Degree, Bachelor's Degree, Master's Degree, and Doctorate.\n",
        "The most common education level is Bachelor's Degree, occurring 42 times out of 164.\n",
        "\n",
        "**Marital Status:**\n",
        "\n",
        "There are two unique marital statuses: Single and Married.\n",
        "The most common status is Married, with 87 occurrences out of 164.\n",
        "\n",
        "**Number of Children:**\n",
        "\n",
        "The average number of children is approximately 0.65, with a standard deviation of about 0.88.\n",
        "The range of the number of children is from 0 to 3.\n",
        "\n",
        "**Home Ownership:**\n",
        "\n",
        "There are two unique categories for home ownership: Rented and Owned.\n",
        "The most common category is Owned, occurring 111 times out of 164.\n",
        "\n",
        "**Credit Score:**\n",
        "\n",
        "There are three unique categories for credit scores: Low, Medium, and High.\n",
        "The most common credit score category is High, occurring 113 times out of 164."
      ],
      "metadata": {
        "id": "ShCrB8yvF5so"
      }
    },
    {
      "cell_type": "markdown",
      "source": [
        "***Verifying Unique Values of Categorical Variable in the dataset***"
      ],
      "metadata": {
        "id": "d64v7AdeGiB6"
      }
    },
    {
      "cell_type": "code",
      "source": [
        "cs_original[\"Home Ownership\"].unique()"
      ],
      "metadata": {
        "colab": {
          "base_uri": "https://localhost:8080/"
        },
        "id": "Nuri38-H-saZ",
        "outputId": "e436d038-d777-4f3e-8530-38e5d5f2ccad"
      },
      "execution_count": 10,
      "outputs": [
        {
          "output_type": "execute_result",
          "data": {
            "text/plain": [
              "array(['Rented', 'Owned'], dtype=object)"
            ]
          },
          "metadata": {},
          "execution_count": 10
        }
      ]
    },
    {
      "cell_type": "code",
      "source": [
        "# Print unique values of Credit Score col\n",
        "cs_original[\"Credit Score\"].unique()"
      ],
      "metadata": {
        "colab": {
          "base_uri": "https://localhost:8080/"
        },
        "id": "dmlW8d2H9ynj",
        "outputId": "3edd4cd9-d897-4b5d-83d8-ed3ec488aaac"
      },
      "execution_count": 11,
      "outputs": [
        {
          "output_type": "execute_result",
          "data": {
            "text/plain": [
              "array(['High', 'Average', 'Low'], dtype=object)"
            ]
          },
          "metadata": {},
          "execution_count": 11
        }
      ]
    },
    {
      "cell_type": "code",
      "source": [
        "cs_original['Education'].unique()"
      ],
      "metadata": {
        "colab": {
          "base_uri": "https://localhost:8080/"
        },
        "id": "BSjcnm73Apfg",
        "outputId": "7e8445e4-9540-426f-853f-4891efe8dd7c"
      },
      "execution_count": 12,
      "outputs": [
        {
          "output_type": "execute_result",
          "data": {
            "text/plain": [
              "array([\"Bachelor's Degree\", \"Master's Degree\", 'Doctorate',\n",
              "       'High School Diploma', \"Associate's Degree\"], dtype=object)"
            ]
          },
          "metadata": {},
          "execution_count": 12
        }
      ]
    },
    {
      "cell_type": "code",
      "source": [
        "cs_original['Marital Status'].unique()"
      ],
      "metadata": {
        "colab": {
          "base_uri": "https://localhost:8080/"
        },
        "id": "xrrUE6l2EKaV",
        "outputId": "7e68e992-b2f0-4b3d-e43f-fda89f917db0"
      },
      "execution_count": 19,
      "outputs": [
        {
          "output_type": "execute_result",
          "data": {
            "text/plain": [
              "array(['Single', 'Married'], dtype=object)"
            ]
          },
          "metadata": {},
          "execution_count": 19
        }
      ]
    },
    {
      "cell_type": "markdown",
      "source": [
        "# **Preparing the dataset**"
      ],
      "metadata": {
        "id": "SAMUt7c-Gv8h"
      }
    },
    {
      "cell_type": "code",
      "source": [
        "# There is no missing values as per the dataset info\n",
        "\n",
        "\n",
        "#  Encoding categorical variables\n",
        "\n",
        "# One-Hot Encoding for 'Home Ownership'\n",
        "ohe = OneHotEncoder(sparse=False, drop='first')\n",
        "home_ownership_encoded = ohe.fit_transform(cs_original[['Home Ownership']])\n",
        "\n",
        "# Convert the One-Hot encoded columns into DataFrames\n",
        "home_ownership_df = pd.DataFrame(home_ownership_encoded, columns=ohe.get_feature_names_out(['Home Ownership']))\n",
        "\n",
        "# Concatenate the new columns to the original DataFrame\n",
        "cs = pd.concat([cs_original, home_ownership_df], axis=1).drop(['Gender', 'Home Ownership'], axis=1)\n",
        "\n",
        "# Define the order for the 'Education' feature and apply Label Encoding\n",
        "education_order = ['High School Diploma', \"Associate's Degree\", \"Bachelor's Degree\", \"Master's Degree\", 'Doctorate']\n",
        "le_education = LabelEncoder()\n",
        "le_education.fit(education_order)\n",
        "cs['Education'] = le_education.transform(cs['Education'])\n",
        "\n",
        "# Label encode 'Marital Status'\n",
        "marital_status_order = ['Single', 'Married']\n",
        "le_marital_status = LabelEncoder()\n",
        "le_marital_status.fit(marital_status_order)\n",
        "cs['Marital Status'] = le_marital_status.transform(cs['Marital Status'])\n",
        "\n",
        "# Label encode 'Credit Score'\n",
        "le_credit_score = LabelEncoder()\n",
        "cs['Credit Score'] = le_credit_score.fit_transform(cs['Credit Score'])\n",
        "\n",
        "# Binning the 'Credit Score' into categories using KBinsDiscretizer\n",
        "discretizer = KBinsDiscretizer(n_bins=4, encode='ordinal', strategy='uniform')\n",
        "cs['Credit Score Category'] = discretizer.fit_transform(cs[['Credit Score']]).astype(int)\n",
        "\n",
        "# Mapping the binned categories to original labels\n",
        "credit_score_labels = {0: 'Low', 1: 'Average', 2: 'High', 3: 'Excellent'}\n",
        "cs['Credit Score Category'] = cs['Credit Score Category'].map(credit_score_labels)\n",
        "\n"
      ],
      "metadata": {
        "colab": {
          "base_uri": "https://localhost:8080/"
        },
        "id": "xInyG4VsGuGD",
        "outputId": "ef8ac0fb-41a6-485f-8d04-527f7db514bd"
      },
      "execution_count": 24,
      "outputs": [
        {
          "output_type": "stream",
          "name": "stderr",
          "text": [
            "/usr/local/lib/python3.10/dist-packages/sklearn/preprocessing/_encoders.py:868: FutureWarning: `sparse` was renamed to `sparse_output` in version 1.2 and will be removed in 1.4. `sparse_output` is ignored unless you leave `sparse` to its default value.\n",
            "  warnings.warn(\n"
          ]
        }
      ]
    },
    {
      "cell_type": "markdown",
      "source": [
        "Splitting the Dataset"
      ],
      "metadata": {
        "id": "KTEDDmb9KGC5"
      }
    },
    {
      "cell_type": "code",
      "source": [
        "# Step 4: Splitting the Dataset\n",
        "X = cs.drop(['Credit Score', 'Credit Score Category'], axis=1)\n",
        "y = cs['Credit Score Category']\n",
        "X_train, X_test, y_train, y_test = train_test_split(X, y, test_size=0.2, random_state=42)"
      ],
      "metadata": {
        "id": "U_EWdtV1I0Iy"
      },
      "execution_count": 25,
      "outputs": []
    },
    {
      "cell_type": "code",
      "source": [
        "# Step 5: Training the Naive Bayes Model\n",
        "model = GaussianNB()\n",
        "model.fit(X_train, y_train)"
      ],
      "metadata": {
        "colab": {
          "base_uri": "https://localhost:8080/",
          "height": 74
        },
        "id": "r7TFUzamI5iM",
        "outputId": "e17cc249-14a3-44bb-f9da-5b7076cd26cc"
      },
      "execution_count": 26,
      "outputs": [
        {
          "output_type": "execute_result",
          "data": {
            "text/plain": [
              "GaussianNB()"
            ],
            "text/html": [
              "<style>#sk-container-id-1 {color: black;background-color: white;}#sk-container-id-1 pre{padding: 0;}#sk-container-id-1 div.sk-toggleable {background-color: white;}#sk-container-id-1 label.sk-toggleable__label {cursor: pointer;display: block;width: 100%;margin-bottom: 0;padding: 0.3em;box-sizing: border-box;text-align: center;}#sk-container-id-1 label.sk-toggleable__label-arrow:before {content: \"▸\";float: left;margin-right: 0.25em;color: #696969;}#sk-container-id-1 label.sk-toggleable__label-arrow:hover:before {color: black;}#sk-container-id-1 div.sk-estimator:hover label.sk-toggleable__label-arrow:before {color: black;}#sk-container-id-1 div.sk-toggleable__content {max-height: 0;max-width: 0;overflow: hidden;text-align: left;background-color: #f0f8ff;}#sk-container-id-1 div.sk-toggleable__content pre {margin: 0.2em;color: black;border-radius: 0.25em;background-color: #f0f8ff;}#sk-container-id-1 input.sk-toggleable__control:checked~div.sk-toggleable__content {max-height: 200px;max-width: 100%;overflow: auto;}#sk-container-id-1 input.sk-toggleable__control:checked~label.sk-toggleable__label-arrow:before {content: \"▾\";}#sk-container-id-1 div.sk-estimator input.sk-toggleable__control:checked~label.sk-toggleable__label {background-color: #d4ebff;}#sk-container-id-1 div.sk-label input.sk-toggleable__control:checked~label.sk-toggleable__label {background-color: #d4ebff;}#sk-container-id-1 input.sk-hidden--visually {border: 0;clip: rect(1px 1px 1px 1px);clip: rect(1px, 1px, 1px, 1px);height: 1px;margin: -1px;overflow: hidden;padding: 0;position: absolute;width: 1px;}#sk-container-id-1 div.sk-estimator {font-family: monospace;background-color: #f0f8ff;border: 1px dotted black;border-radius: 0.25em;box-sizing: border-box;margin-bottom: 0.5em;}#sk-container-id-1 div.sk-estimator:hover {background-color: #d4ebff;}#sk-container-id-1 div.sk-parallel-item::after {content: \"\";width: 100%;border-bottom: 1px solid gray;flex-grow: 1;}#sk-container-id-1 div.sk-label:hover label.sk-toggleable__label {background-color: #d4ebff;}#sk-container-id-1 div.sk-serial::before {content: \"\";position: absolute;border-left: 1px solid gray;box-sizing: border-box;top: 0;bottom: 0;left: 50%;z-index: 0;}#sk-container-id-1 div.sk-serial {display: flex;flex-direction: column;align-items: center;background-color: white;padding-right: 0.2em;padding-left: 0.2em;position: relative;}#sk-container-id-1 div.sk-item {position: relative;z-index: 1;}#sk-container-id-1 div.sk-parallel {display: flex;align-items: stretch;justify-content: center;background-color: white;position: relative;}#sk-container-id-1 div.sk-item::before, #sk-container-id-1 div.sk-parallel-item::before {content: \"\";position: absolute;border-left: 1px solid gray;box-sizing: border-box;top: 0;bottom: 0;left: 50%;z-index: -1;}#sk-container-id-1 div.sk-parallel-item {display: flex;flex-direction: column;z-index: 1;position: relative;background-color: white;}#sk-container-id-1 div.sk-parallel-item:first-child::after {align-self: flex-end;width: 50%;}#sk-container-id-1 div.sk-parallel-item:last-child::after {align-self: flex-start;width: 50%;}#sk-container-id-1 div.sk-parallel-item:only-child::after {width: 0;}#sk-container-id-1 div.sk-dashed-wrapped {border: 1px dashed gray;margin: 0 0.4em 0.5em 0.4em;box-sizing: border-box;padding-bottom: 0.4em;background-color: white;}#sk-container-id-1 div.sk-label label {font-family: monospace;font-weight: bold;display: inline-block;line-height: 1.2em;}#sk-container-id-1 div.sk-label-container {text-align: center;}#sk-container-id-1 div.sk-container {/* jupyter's `normalize.less` sets `[hidden] { display: none; }` but bootstrap.min.css set `[hidden] { display: none !important; }` so we also need the `!important` here to be able to override the default hidden behavior on the sphinx rendered scikit-learn.org. See: https://github.com/scikit-learn/scikit-learn/issues/21755 */display: inline-block !important;position: relative;}#sk-container-id-1 div.sk-text-repr-fallback {display: none;}</style><div id=\"sk-container-id-1\" class=\"sk-top-container\"><div class=\"sk-text-repr-fallback\"><pre>GaussianNB()</pre><b>In a Jupyter environment, please rerun this cell to show the HTML representation or trust the notebook. <br />On GitHub, the HTML representation is unable to render, please try loading this page with nbviewer.org.</b></div><div class=\"sk-container\" hidden><div class=\"sk-item\"><div class=\"sk-estimator sk-toggleable\"><input class=\"sk-toggleable__control sk-hidden--visually\" id=\"sk-estimator-id-1\" type=\"checkbox\" checked><label for=\"sk-estimator-id-1\" class=\"sk-toggleable__label sk-toggleable__label-arrow\">GaussianNB</label><div class=\"sk-toggleable__content\"><pre>GaussianNB()</pre></div></div></div></div></div>"
            ]
          },
          "metadata": {},
          "execution_count": 26
        }
      ]
    },
    {
      "cell_type": "code",
      "source": [
        "# Step 6: Evaluating the Model\n",
        "y_pred = model.predict(X_test)\n",
        "accuracy = accuracy_score(y_test, y_pred)\n",
        "classification_rep = classification_report(y_test, y_pred)\n",
        "\n",
        "print(f'Accuracy: {accuracy}')\n",
        "print(f'Classification Report:\\n{classification_rep}')"
      ],
      "metadata": {
        "colab": {
          "base_uri": "https://localhost:8080/"
        },
        "id": "fFeulHA1GuDD",
        "outputId": "aab00a8e-cc87-4936-c2c0-a3525400bcc1"
      },
      "execution_count": 27,
      "outputs": [
        {
          "output_type": "stream",
          "name": "stdout",
          "text": [
            "Accuracy: 1.0\n",
            "Classification Report:\n",
            "              precision    recall  f1-score   support\n",
            "\n",
            "   Excellent       1.00      1.00      1.00         5\n",
            "        High       1.00      1.00      1.00        23\n",
            "         Low       1.00      1.00      1.00         5\n",
            "\n",
            "    accuracy                           1.00        33\n",
            "   macro avg       1.00      1.00      1.00        33\n",
            "weighted avg       1.00      1.00      1.00        33\n",
            "\n"
          ]
        }
      ]
    },
    {
      "cell_type": "markdown",
      "source": [
        "**# Conclusion**"
      ],
      "metadata": {
        "id": "MjbpnEOwJA-O"
      }
    },
    {
      "cell_type": "markdown",
      "source": [
        "The conclusion based on the classification report and accuracy score is as follows:\n",
        "\n",
        "**Accuracy:** The Naive Bayes model achieved a perfect accuracy of 100%, indicating that it correctly classified all instances in the test dataset.\n",
        "\n",
        "**Precision, Recall, and F1-score:**\n",
        "\n",
        "For each class ('Excellent', 'High', 'Low'), precision, recall, and F1-score are all 1.00, indicating perfect performance. This means that the model correctly identified all instances of each class, without any false positives or false negatives.\n",
        "\n",
        "**Support:** The support column represents the number of instances of each class in the test dataset. It shows that the model was tested on a total of 33 instances across all classes.\n",
        "\n",
        "**Conclusion:**\n",
        "\n",
        "The Naive Bayes model performed exceptionally well on the given dataset, achieving perfect classification accuracy. This suggests that the features used for classification are highly predictive of the target variable (Credit Score Category)."
      ],
      "metadata": {
        "id": "Cnz-hAKUJaqr"
      }
    },
    {
      "cell_type": "code",
      "source": [],
      "metadata": {
        "id": "izP7eO2QAti2"
      },
      "execution_count": null,
      "outputs": []
    }
  ]
}